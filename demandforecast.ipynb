{
 "cells": [
  {
   "cell_type": "code",
   "execution_count": 1,
   "id": "b0a8a9cc",
   "metadata": {},
   "outputs": [],
   "source": [
    "#Loading the libraries"
   ]
  },
  {
   "cell_type": "code",
   "execution_count": 1,
   "id": "c00f34a3",
   "metadata": {},
   "outputs": [],
   "source": [
    "import numpy as np\n",
    "import pandas as pd\n",
    "import matplotlib.pyplot as plt\n",
    "import seaborn as sns"
   ]
  },
  {
   "cell_type": "code",
   "execution_count": 4,
   "id": "fe2e0bf4",
   "metadata": {},
   "outputs": [],
   "source": [
    "pd.options.display.max_columns=None\n",
    "pd.options.display.max_rows=None"
   ]
  },
  {
   "cell_type": "code",
   "execution_count": 45,
   "id": "e22390b0",
   "metadata": {},
   "outputs": [],
   "source": [
    "from warnings import filterwarnings\n",
    "filterwarnings('ignore')"
   ]
  },
  {
   "cell_type": "code",
   "execution_count": 2,
   "id": "974151d6",
   "metadata": {},
   "outputs": [],
   "source": [
    "#Loading the dataset"
   ]
  },
  {
   "cell_type": "code",
   "execution_count": 5,
   "id": "bb8d7fec",
   "metadata": {},
   "outputs": [],
   "source": [
    "df_store=pd.read_excel('C:/Users/Sushree Jena/Desktop/imarticus/machine learning/timeseries/Sample_Superstore.xlsx')"
   ]
  },
  {
   "cell_type": "code",
   "execution_count": 6,
   "id": "ab942e05",
   "metadata": {},
   "outputs": [
    {
     "data": {
      "text/html": [
       "<div>\n",
       "<style scoped>\n",
       "    .dataframe tbody tr th:only-of-type {\n",
       "        vertical-align: middle;\n",
       "    }\n",
       "\n",
       "    .dataframe tbody tr th {\n",
       "        vertical-align: top;\n",
       "    }\n",
       "\n",
       "    .dataframe thead th {\n",
       "        text-align: right;\n",
       "    }\n",
       "</style>\n",
       "<table border=\"1\" class=\"dataframe\">\n",
       "  <thead>\n",
       "    <tr style=\"text-align: right;\">\n",
       "      <th></th>\n",
       "      <th>Row ID</th>\n",
       "      <th>Order ID</th>\n",
       "      <th>Order Date</th>\n",
       "      <th>Ship Date</th>\n",
       "      <th>Ship Mode</th>\n",
       "      <th>Customer ID</th>\n",
       "      <th>Customer Name</th>\n",
       "      <th>Segment</th>\n",
       "      <th>Country</th>\n",
       "      <th>City</th>\n",
       "      <th>State</th>\n",
       "      <th>Postal Code</th>\n",
       "      <th>Region</th>\n",
       "      <th>Product ID</th>\n",
       "      <th>Category</th>\n",
       "      <th>Sub-Category</th>\n",
       "      <th>Product Name</th>\n",
       "      <th>Sales</th>\n",
       "      <th>Quantity</th>\n",
       "      <th>Discount</th>\n",
       "      <th>Profit</th>\n",
       "    </tr>\n",
       "  </thead>\n",
       "  <tbody>\n",
       "    <tr>\n",
       "      <th>0</th>\n",
       "      <td>1</td>\n",
       "      <td>CA-2016-152156</td>\n",
       "      <td>2016-11-08</td>\n",
       "      <td>2016-11-11</td>\n",
       "      <td>Second Class</td>\n",
       "      <td>CG-12520</td>\n",
       "      <td>Claire Gute</td>\n",
       "      <td>Consumer</td>\n",
       "      <td>United States</td>\n",
       "      <td>Henderson</td>\n",
       "      <td>Kentucky</td>\n",
       "      <td>42420</td>\n",
       "      <td>South</td>\n",
       "      <td>FUR-BO-10001798</td>\n",
       "      <td>Furniture</td>\n",
       "      <td>Bookcases</td>\n",
       "      <td>Bush Somerset Collection Bookcase</td>\n",
       "      <td>261.9600</td>\n",
       "      <td>2</td>\n",
       "      <td>0.00</td>\n",
       "      <td>41.9136</td>\n",
       "    </tr>\n",
       "    <tr>\n",
       "      <th>1</th>\n",
       "      <td>2</td>\n",
       "      <td>CA-2016-152156</td>\n",
       "      <td>2016-11-08</td>\n",
       "      <td>2016-11-11</td>\n",
       "      <td>Second Class</td>\n",
       "      <td>CG-12520</td>\n",
       "      <td>Claire Gute</td>\n",
       "      <td>Consumer</td>\n",
       "      <td>United States</td>\n",
       "      <td>Henderson</td>\n",
       "      <td>Kentucky</td>\n",
       "      <td>42420</td>\n",
       "      <td>South</td>\n",
       "      <td>FUR-CH-10000454</td>\n",
       "      <td>Furniture</td>\n",
       "      <td>Chairs</td>\n",
       "      <td>Hon Deluxe Fabric Upholstered Stacking Chairs,...</td>\n",
       "      <td>731.9400</td>\n",
       "      <td>3</td>\n",
       "      <td>0.00</td>\n",
       "      <td>219.5820</td>\n",
       "    </tr>\n",
       "    <tr>\n",
       "      <th>2</th>\n",
       "      <td>3</td>\n",
       "      <td>CA-2016-138688</td>\n",
       "      <td>2016-06-12</td>\n",
       "      <td>2016-06-16</td>\n",
       "      <td>Second Class</td>\n",
       "      <td>DV-13045</td>\n",
       "      <td>Darrin Van Huff</td>\n",
       "      <td>Corporate</td>\n",
       "      <td>United States</td>\n",
       "      <td>Los Angeles</td>\n",
       "      <td>California</td>\n",
       "      <td>90036</td>\n",
       "      <td>West</td>\n",
       "      <td>OFF-LA-10000240</td>\n",
       "      <td>Office Supplies</td>\n",
       "      <td>Labels</td>\n",
       "      <td>Self-Adhesive Address Labels for Typewriters b...</td>\n",
       "      <td>14.6200</td>\n",
       "      <td>2</td>\n",
       "      <td>0.00</td>\n",
       "      <td>6.8714</td>\n",
       "    </tr>\n",
       "    <tr>\n",
       "      <th>3</th>\n",
       "      <td>4</td>\n",
       "      <td>US-2015-108966</td>\n",
       "      <td>2015-10-11</td>\n",
       "      <td>2015-10-18</td>\n",
       "      <td>Standard Class</td>\n",
       "      <td>SO-20335</td>\n",
       "      <td>Sean O'Donnell</td>\n",
       "      <td>Consumer</td>\n",
       "      <td>United States</td>\n",
       "      <td>Fort Lauderdale</td>\n",
       "      <td>Florida</td>\n",
       "      <td>33311</td>\n",
       "      <td>South</td>\n",
       "      <td>FUR-TA-10000577</td>\n",
       "      <td>Furniture</td>\n",
       "      <td>Tables</td>\n",
       "      <td>Bretford CR4500 Series Slim Rectangular Table</td>\n",
       "      <td>957.5775</td>\n",
       "      <td>5</td>\n",
       "      <td>0.45</td>\n",
       "      <td>-383.0310</td>\n",
       "    </tr>\n",
       "    <tr>\n",
       "      <th>4</th>\n",
       "      <td>5</td>\n",
       "      <td>US-2015-108966</td>\n",
       "      <td>2015-10-11</td>\n",
       "      <td>2015-10-18</td>\n",
       "      <td>Standard Class</td>\n",
       "      <td>SO-20335</td>\n",
       "      <td>Sean O'Donnell</td>\n",
       "      <td>Consumer</td>\n",
       "      <td>United States</td>\n",
       "      <td>Fort Lauderdale</td>\n",
       "      <td>Florida</td>\n",
       "      <td>33311</td>\n",
       "      <td>South</td>\n",
       "      <td>OFF-ST-10000760</td>\n",
       "      <td>Office Supplies</td>\n",
       "      <td>Storage</td>\n",
       "      <td>Eldon Fold 'N Roll Cart System</td>\n",
       "      <td>22.3680</td>\n",
       "      <td>2</td>\n",
       "      <td>0.20</td>\n",
       "      <td>2.5164</td>\n",
       "    </tr>\n",
       "  </tbody>\n",
       "</table>\n",
       "</div>"
      ],
      "text/plain": [
       "   Row ID        Order ID Order Date  Ship Date       Ship Mode Customer ID  \\\n",
       "0       1  CA-2016-152156 2016-11-08 2016-11-11    Second Class    CG-12520   \n",
       "1       2  CA-2016-152156 2016-11-08 2016-11-11    Second Class    CG-12520   \n",
       "2       3  CA-2016-138688 2016-06-12 2016-06-16    Second Class    DV-13045   \n",
       "3       4  US-2015-108966 2015-10-11 2015-10-18  Standard Class    SO-20335   \n",
       "4       5  US-2015-108966 2015-10-11 2015-10-18  Standard Class    SO-20335   \n",
       "\n",
       "     Customer Name    Segment        Country             City       State  \\\n",
       "0      Claire Gute   Consumer  United States        Henderson    Kentucky   \n",
       "1      Claire Gute   Consumer  United States        Henderson    Kentucky   \n",
       "2  Darrin Van Huff  Corporate  United States      Los Angeles  California   \n",
       "3   Sean O'Donnell   Consumer  United States  Fort Lauderdale     Florida   \n",
       "4   Sean O'Donnell   Consumer  United States  Fort Lauderdale     Florida   \n",
       "\n",
       "   Postal Code Region       Product ID         Category Sub-Category  \\\n",
       "0        42420  South  FUR-BO-10001798        Furniture    Bookcases   \n",
       "1        42420  South  FUR-CH-10000454        Furniture       Chairs   \n",
       "2        90036   West  OFF-LA-10000240  Office Supplies       Labels   \n",
       "3        33311  South  FUR-TA-10000577        Furniture       Tables   \n",
       "4        33311  South  OFF-ST-10000760  Office Supplies      Storage   \n",
       "\n",
       "                                        Product Name     Sales  Quantity  \\\n",
       "0                  Bush Somerset Collection Bookcase  261.9600         2   \n",
       "1  Hon Deluxe Fabric Upholstered Stacking Chairs,...  731.9400         3   \n",
       "2  Self-Adhesive Address Labels for Typewriters b...   14.6200         2   \n",
       "3      Bretford CR4500 Series Slim Rectangular Table  957.5775         5   \n",
       "4                     Eldon Fold 'N Roll Cart System   22.3680         2   \n",
       "\n",
       "   Discount    Profit  \n",
       "0      0.00   41.9136  \n",
       "1      0.00  219.5820  \n",
       "2      0.00    6.8714  \n",
       "3      0.45 -383.0310  \n",
       "4      0.20    2.5164  "
      ]
     },
     "execution_count": 6,
     "metadata": {},
     "output_type": "execute_result"
    }
   ],
   "source": [
    "df_store.head()"
   ]
  },
  {
   "cell_type": "code",
   "execution_count": 7,
   "id": "e476b565",
   "metadata": {},
   "outputs": [
    {
     "data": {
      "text/plain": [
       "Office Supplies    6026\n",
       "Furniture          2121\n",
       "Technology         1847\n",
       "Name: Category, dtype: int64"
      ]
     },
     "execution_count": 7,
     "metadata": {},
     "output_type": "execute_result"
    }
   ],
   "source": [
    "df_store.Category.value_counts()"
   ]
  },
  {
   "cell_type": "code",
   "execution_count": 8,
   "id": "464e2054",
   "metadata": {},
   "outputs": [],
   "source": [
    "#We will be predicting future demand for Office Supplies as a part of our analysis."
   ]
  },
  {
   "cell_type": "code",
   "execution_count": 9,
   "id": "b6a58322",
   "metadata": {},
   "outputs": [],
   "source": [
    "df_os=df_store[df_store['Category']=='Office Supplies']"
   ]
  },
  {
   "cell_type": "code",
   "execution_count": 10,
   "id": "3d6d886f",
   "metadata": {},
   "outputs": [
    {
     "data": {
      "text/html": [
       "<div>\n",
       "<style scoped>\n",
       "    .dataframe tbody tr th:only-of-type {\n",
       "        vertical-align: middle;\n",
       "    }\n",
       "\n",
       "    .dataframe tbody tr th {\n",
       "        vertical-align: top;\n",
       "    }\n",
       "\n",
       "    .dataframe thead th {\n",
       "        text-align: right;\n",
       "    }\n",
       "</style>\n",
       "<table border=\"1\" class=\"dataframe\">\n",
       "  <thead>\n",
       "    <tr style=\"text-align: right;\">\n",
       "      <th></th>\n",
       "      <th>Row ID</th>\n",
       "      <th>Order ID</th>\n",
       "      <th>Order Date</th>\n",
       "      <th>Ship Date</th>\n",
       "      <th>Ship Mode</th>\n",
       "      <th>Customer ID</th>\n",
       "      <th>Customer Name</th>\n",
       "      <th>Segment</th>\n",
       "      <th>Country</th>\n",
       "      <th>City</th>\n",
       "      <th>State</th>\n",
       "      <th>Postal Code</th>\n",
       "      <th>Region</th>\n",
       "      <th>Product ID</th>\n",
       "      <th>Category</th>\n",
       "      <th>Sub-Category</th>\n",
       "      <th>Product Name</th>\n",
       "      <th>Sales</th>\n",
       "      <th>Quantity</th>\n",
       "      <th>Discount</th>\n",
       "      <th>Profit</th>\n",
       "    </tr>\n",
       "  </thead>\n",
       "  <tbody>\n",
       "    <tr>\n",
       "      <th>2</th>\n",
       "      <td>3</td>\n",
       "      <td>CA-2016-138688</td>\n",
       "      <td>2016-06-12</td>\n",
       "      <td>2016-06-16</td>\n",
       "      <td>Second Class</td>\n",
       "      <td>DV-13045</td>\n",
       "      <td>Darrin Van Huff</td>\n",
       "      <td>Corporate</td>\n",
       "      <td>United States</td>\n",
       "      <td>Los Angeles</td>\n",
       "      <td>California</td>\n",
       "      <td>90036</td>\n",
       "      <td>West</td>\n",
       "      <td>OFF-LA-10000240</td>\n",
       "      <td>Office Supplies</td>\n",
       "      <td>Labels</td>\n",
       "      <td>Self-Adhesive Address Labels for Typewriters b...</td>\n",
       "      <td>14.620</td>\n",
       "      <td>2</td>\n",
       "      <td>0.0</td>\n",
       "      <td>6.8714</td>\n",
       "    </tr>\n",
       "    <tr>\n",
       "      <th>4</th>\n",
       "      <td>5</td>\n",
       "      <td>US-2015-108966</td>\n",
       "      <td>2015-10-11</td>\n",
       "      <td>2015-10-18</td>\n",
       "      <td>Standard Class</td>\n",
       "      <td>SO-20335</td>\n",
       "      <td>Sean O'Donnell</td>\n",
       "      <td>Consumer</td>\n",
       "      <td>United States</td>\n",
       "      <td>Fort Lauderdale</td>\n",
       "      <td>Florida</td>\n",
       "      <td>33311</td>\n",
       "      <td>South</td>\n",
       "      <td>OFF-ST-10000760</td>\n",
       "      <td>Office Supplies</td>\n",
       "      <td>Storage</td>\n",
       "      <td>Eldon Fold 'N Roll Cart System</td>\n",
       "      <td>22.368</td>\n",
       "      <td>2</td>\n",
       "      <td>0.2</td>\n",
       "      <td>2.5164</td>\n",
       "    </tr>\n",
       "    <tr>\n",
       "      <th>6</th>\n",
       "      <td>7</td>\n",
       "      <td>CA-2014-115812</td>\n",
       "      <td>2014-06-09</td>\n",
       "      <td>2014-06-14</td>\n",
       "      <td>Standard Class</td>\n",
       "      <td>BH-11710</td>\n",
       "      <td>Brosina Hoffman</td>\n",
       "      <td>Consumer</td>\n",
       "      <td>United States</td>\n",
       "      <td>Los Angeles</td>\n",
       "      <td>California</td>\n",
       "      <td>90032</td>\n",
       "      <td>West</td>\n",
       "      <td>OFF-AR-10002833</td>\n",
       "      <td>Office Supplies</td>\n",
       "      <td>Art</td>\n",
       "      <td>Newell 322</td>\n",
       "      <td>7.280</td>\n",
       "      <td>4</td>\n",
       "      <td>0.0</td>\n",
       "      <td>1.9656</td>\n",
       "    </tr>\n",
       "    <tr>\n",
       "      <th>8</th>\n",
       "      <td>9</td>\n",
       "      <td>CA-2014-115812</td>\n",
       "      <td>2014-06-09</td>\n",
       "      <td>2014-06-14</td>\n",
       "      <td>Standard Class</td>\n",
       "      <td>BH-11710</td>\n",
       "      <td>Brosina Hoffman</td>\n",
       "      <td>Consumer</td>\n",
       "      <td>United States</td>\n",
       "      <td>Los Angeles</td>\n",
       "      <td>California</td>\n",
       "      <td>90032</td>\n",
       "      <td>West</td>\n",
       "      <td>OFF-BI-10003910</td>\n",
       "      <td>Office Supplies</td>\n",
       "      <td>Binders</td>\n",
       "      <td>DXL Angle-View Binders with Locking Rings by S...</td>\n",
       "      <td>18.504</td>\n",
       "      <td>3</td>\n",
       "      <td>0.2</td>\n",
       "      <td>5.7825</td>\n",
       "    </tr>\n",
       "    <tr>\n",
       "      <th>9</th>\n",
       "      <td>10</td>\n",
       "      <td>CA-2014-115812</td>\n",
       "      <td>2014-06-09</td>\n",
       "      <td>2014-06-14</td>\n",
       "      <td>Standard Class</td>\n",
       "      <td>BH-11710</td>\n",
       "      <td>Brosina Hoffman</td>\n",
       "      <td>Consumer</td>\n",
       "      <td>United States</td>\n",
       "      <td>Los Angeles</td>\n",
       "      <td>California</td>\n",
       "      <td>90032</td>\n",
       "      <td>West</td>\n",
       "      <td>OFF-AP-10002892</td>\n",
       "      <td>Office Supplies</td>\n",
       "      <td>Appliances</td>\n",
       "      <td>Belkin F5C206VTEL 6 Outlet Surge</td>\n",
       "      <td>114.900</td>\n",
       "      <td>5</td>\n",
       "      <td>0.0</td>\n",
       "      <td>34.4700</td>\n",
       "    </tr>\n",
       "  </tbody>\n",
       "</table>\n",
       "</div>"
      ],
      "text/plain": [
       "   Row ID        Order ID Order Date  Ship Date       Ship Mode Customer ID  \\\n",
       "2       3  CA-2016-138688 2016-06-12 2016-06-16    Second Class    DV-13045   \n",
       "4       5  US-2015-108966 2015-10-11 2015-10-18  Standard Class    SO-20335   \n",
       "6       7  CA-2014-115812 2014-06-09 2014-06-14  Standard Class    BH-11710   \n",
       "8       9  CA-2014-115812 2014-06-09 2014-06-14  Standard Class    BH-11710   \n",
       "9      10  CA-2014-115812 2014-06-09 2014-06-14  Standard Class    BH-11710   \n",
       "\n",
       "     Customer Name    Segment        Country             City       State  \\\n",
       "2  Darrin Van Huff  Corporate  United States      Los Angeles  California   \n",
       "4   Sean O'Donnell   Consumer  United States  Fort Lauderdale     Florida   \n",
       "6  Brosina Hoffman   Consumer  United States      Los Angeles  California   \n",
       "8  Brosina Hoffman   Consumer  United States      Los Angeles  California   \n",
       "9  Brosina Hoffman   Consumer  United States      Los Angeles  California   \n",
       "\n",
       "   Postal Code Region       Product ID         Category Sub-Category  \\\n",
       "2        90036   West  OFF-LA-10000240  Office Supplies       Labels   \n",
       "4        33311  South  OFF-ST-10000760  Office Supplies      Storage   \n",
       "6        90032   West  OFF-AR-10002833  Office Supplies          Art   \n",
       "8        90032   West  OFF-BI-10003910  Office Supplies      Binders   \n",
       "9        90032   West  OFF-AP-10002892  Office Supplies   Appliances   \n",
       "\n",
       "                                        Product Name    Sales  Quantity  \\\n",
       "2  Self-Adhesive Address Labels for Typewriters b...   14.620         2   \n",
       "4                     Eldon Fold 'N Roll Cart System   22.368         2   \n",
       "6                                         Newell 322    7.280         4   \n",
       "8  DXL Angle-View Binders with Locking Rings by S...   18.504         3   \n",
       "9                   Belkin F5C206VTEL 6 Outlet Surge  114.900         5   \n",
       "\n",
       "   Discount   Profit  \n",
       "2       0.0   6.8714  \n",
       "4       0.2   2.5164  \n",
       "6       0.0   1.9656  \n",
       "8       0.2   5.7825  \n",
       "9       0.0  34.4700  "
      ]
     },
     "execution_count": 10,
     "metadata": {},
     "output_type": "execute_result"
    }
   ],
   "source": [
    "df_os.head()"
   ]
  },
  {
   "cell_type": "code",
   "execution_count": 11,
   "id": "6b811873",
   "metadata": {},
   "outputs": [
    {
     "data": {
      "text/plain": [
       "(6026, 21)"
      ]
     },
     "execution_count": 11,
     "metadata": {},
     "output_type": "execute_result"
    }
   ],
   "source": [
    "df_os.shape"
   ]
  },
  {
   "cell_type": "code",
   "execution_count": 12,
   "id": "b370fda0",
   "metadata": {},
   "outputs": [
    {
     "name": "stdout",
     "output_type": "stream",
     "text": [
      "<class 'pandas.core.frame.DataFrame'>\n",
      "Int64Index: 6026 entries, 2 to 9993\n",
      "Data columns (total 21 columns):\n",
      " #   Column         Non-Null Count  Dtype         \n",
      "---  ------         --------------  -----         \n",
      " 0   Row ID         6026 non-null   int64         \n",
      " 1   Order ID       6026 non-null   object        \n",
      " 2   Order Date     6026 non-null   datetime64[ns]\n",
      " 3   Ship Date      6026 non-null   datetime64[ns]\n",
      " 4   Ship Mode      6026 non-null   object        \n",
      " 5   Customer ID    6026 non-null   object        \n",
      " 6   Customer Name  6026 non-null   object        \n",
      " 7   Segment        6026 non-null   object        \n",
      " 8   Country        6026 non-null   object        \n",
      " 9   City           6026 non-null   object        \n",
      " 10  State          6026 non-null   object        \n",
      " 11  Postal Code    6026 non-null   int64         \n",
      " 12  Region         6026 non-null   object        \n",
      " 13  Product ID     6026 non-null   object        \n",
      " 14  Category       6026 non-null   object        \n",
      " 15  Sub-Category   6026 non-null   object        \n",
      " 16  Product Name   6026 non-null   object        \n",
      " 17  Sales          6026 non-null   float64       \n",
      " 18  Quantity       6026 non-null   int64         \n",
      " 19  Discount       6026 non-null   float64       \n",
      " 20  Profit         6026 non-null   float64       \n",
      "dtypes: datetime64[ns](2), float64(3), int64(3), object(13)\n",
      "memory usage: 1.0+ MB\n"
     ]
    }
   ],
   "source": [
    "df_os.info()"
   ]
  },
  {
   "cell_type": "markdown",
   "id": "6a27b190",
   "metadata": {},
   "source": [
    "There are no missing values in the dataset."
   ]
  },
  {
   "cell_type": "code",
   "execution_count": 14,
   "id": "cd59ffd3",
   "metadata": {},
   "outputs": [
    {
     "data": {
      "text/plain": [
       "(Timestamp('2014-01-03 00:00:00'), Timestamp('2017-12-30 00:00:00'))"
      ]
     },
     "execution_count": 14,
     "metadata": {},
     "output_type": "execute_result"
    }
   ],
   "source": [
    "df_os['Order Date'].min(),df_os['Order Date'].max()"
   ]
  },
  {
   "cell_type": "markdown",
   "id": "afffa025",
   "metadata": {},
   "source": [
    "Selecting only the required columns for model building."
   ]
  },
  {
   "cell_type": "code",
   "execution_count": 18,
   "id": "4b8b1f7e",
   "metadata": {},
   "outputs": [],
   "source": [
    "df_quantity=df_os.loc[:,['Order Date','Quantity']]"
   ]
  },
  {
   "cell_type": "code",
   "execution_count": 20,
   "id": "3598b4d9",
   "metadata": {},
   "outputs": [
    {
     "data": {
      "text/plain": [
       "Index(['Order Date', 'Quantity'], dtype='object')"
      ]
     },
     "execution_count": 20,
     "metadata": {},
     "output_type": "execute_result"
    }
   ],
   "source": [
    "df_quantity.columns"
   ]
  },
  {
   "cell_type": "code",
   "execution_count": 21,
   "id": "06cd111c",
   "metadata": {},
   "outputs": [],
   "source": [
    "df_quantity.columns=['Order_Date','Quantity']"
   ]
  },
  {
   "cell_type": "code",
   "execution_count": 22,
   "id": "7a739329",
   "metadata": {},
   "outputs": [],
   "source": [
    "df_quantity=df_quantity.set_index('Order_Date')"
   ]
  },
  {
   "cell_type": "code",
   "execution_count": 23,
   "id": "a90e0a3c",
   "metadata": {},
   "outputs": [
    {
     "data": {
      "text/html": [
       "<div>\n",
       "<style scoped>\n",
       "    .dataframe tbody tr th:only-of-type {\n",
       "        vertical-align: middle;\n",
       "    }\n",
       "\n",
       "    .dataframe tbody tr th {\n",
       "        vertical-align: top;\n",
       "    }\n",
       "\n",
       "    .dataframe thead th {\n",
       "        text-align: right;\n",
       "    }\n",
       "</style>\n",
       "<table border=\"1\" class=\"dataframe\">\n",
       "  <thead>\n",
       "    <tr style=\"text-align: right;\">\n",
       "      <th></th>\n",
       "      <th>Quantity</th>\n",
       "    </tr>\n",
       "    <tr>\n",
       "      <th>Order_Date</th>\n",
       "      <th></th>\n",
       "    </tr>\n",
       "  </thead>\n",
       "  <tbody>\n",
       "    <tr>\n",
       "      <th>2016-06-12</th>\n",
       "      <td>2</td>\n",
       "    </tr>\n",
       "    <tr>\n",
       "      <th>2015-10-11</th>\n",
       "      <td>2</td>\n",
       "    </tr>\n",
       "    <tr>\n",
       "      <th>2014-06-09</th>\n",
       "      <td>4</td>\n",
       "    </tr>\n",
       "    <tr>\n",
       "      <th>2014-06-09</th>\n",
       "      <td>3</td>\n",
       "    </tr>\n",
       "    <tr>\n",
       "      <th>2014-06-09</th>\n",
       "      <td>5</td>\n",
       "    </tr>\n",
       "  </tbody>\n",
       "</table>\n",
       "</div>"
      ],
      "text/plain": [
       "            Quantity\n",
       "Order_Date          \n",
       "2016-06-12         2\n",
       "2015-10-11         2\n",
       "2014-06-09         4\n",
       "2014-06-09         3\n",
       "2014-06-09         5"
      ]
     },
     "execution_count": 23,
     "metadata": {},
     "output_type": "execute_result"
    }
   ],
   "source": [
    "df_quantity.head()"
   ]
  },
  {
   "cell_type": "code",
   "execution_count": 24,
   "id": "51341f58",
   "metadata": {},
   "outputs": [],
   "source": [
    "#Resampling the data to show the month start value"
   ]
  },
  {
   "cell_type": "code",
   "execution_count": 37,
   "id": "8956d665",
   "metadata": {},
   "outputs": [],
   "source": [
    "df_monthly_quantity=df_quantity.resample('MS').sum()"
   ]
  },
  {
   "cell_type": "code",
   "execution_count": 38,
   "id": "0ca59435",
   "metadata": {},
   "outputs": [
    {
     "data": {
      "text/html": [
       "<div>\n",
       "<style scoped>\n",
       "    .dataframe tbody tr th:only-of-type {\n",
       "        vertical-align: middle;\n",
       "    }\n",
       "\n",
       "    .dataframe tbody tr th {\n",
       "        vertical-align: top;\n",
       "    }\n",
       "\n",
       "    .dataframe thead th {\n",
       "        text-align: right;\n",
       "    }\n",
       "</style>\n",
       "<table border=\"1\" class=\"dataframe\">\n",
       "  <thead>\n",
       "    <tr style=\"text-align: right;\">\n",
       "      <th></th>\n",
       "      <th>Quantity</th>\n",
       "    </tr>\n",
       "    <tr>\n",
       "      <th>Order_Date</th>\n",
       "      <th></th>\n",
       "    </tr>\n",
       "  </thead>\n",
       "  <tbody>\n",
       "    <tr>\n",
       "      <th>2014-01-01</th>\n",
       "      <td>169</td>\n",
       "    </tr>\n",
       "    <tr>\n",
       "      <th>2014-02-01</th>\n",
       "      <td>103</td>\n",
       "    </tr>\n",
       "    <tr>\n",
       "      <th>2014-03-01</th>\n",
       "      <td>370</td>\n",
       "    </tr>\n",
       "    <tr>\n",
       "      <th>2014-04-01</th>\n",
       "      <td>345</td>\n",
       "    </tr>\n",
       "    <tr>\n",
       "      <th>2014-05-01</th>\n",
       "      <td>281</td>\n",
       "    </tr>\n",
       "  </tbody>\n",
       "</table>\n",
       "</div>"
      ],
      "text/plain": [
       "            Quantity\n",
       "Order_Date          \n",
       "2014-01-01       169\n",
       "2014-02-01       103\n",
       "2014-03-01       370\n",
       "2014-04-01       345\n",
       "2014-05-01       281"
      ]
     },
     "execution_count": 38,
     "metadata": {},
     "output_type": "execute_result"
    }
   ],
   "source": [
    "df_monthly_quantity.head()"
   ]
  },
  {
   "cell_type": "code",
   "execution_count": 31,
   "id": "96837a54",
   "metadata": {},
   "outputs": [],
   "source": [
    "#viewing the time series data"
   ]
  },
  {
   "cell_type": "code",
   "execution_count": 39,
   "id": "60b8bc5b",
   "metadata": {},
   "outputs": [
    {
     "data": {
      "image/png": "[encoded data removed]",
      "text/plain": [
       "<Figure size 864x576 with 1 Axes>"
      ]
     },
     "metadata": {
      "needs_background": "light"
     },
     "output_type": "display_data"
    }
   ],
   "source": [
    "plt.figure(figsize=(12,8))\n",
    "plt.plot(df_monthly_quantity['Quantity'])\n",
    "plt.title('Office_Supplies monthly demand data')\n",
    "plt.xlabel('Order_Date')\n",
    "plt.ylabel('Quantity')\n",
    "plt.show()"
   ]
  },
  {
   "cell_type": "code",
   "execution_count": 34,
   "id": "e706dbdb",
   "metadata": {},
   "outputs": [],
   "source": [
    "#test for stationarity"
   ]
  },
  {
   "cell_type": "code",
   "execution_count": 35,
   "id": "46efc9c1",
   "metadata": {},
   "outputs": [],
   "source": [
    "from statsmodels.tsa.stattools import adfuller,kpss"
   ]
  },
  {
   "cell_type": "code",
   "execution_count": 36,
   "id": "80d56781",
   "metadata": {},
   "outputs": [],
   "source": [
    "#ADFuller Test\n",
    "#H0=non-stationary\n",
    "#H1=stationary"
   ]
  },
  {
   "cell_type": "code",
   "execution_count": 43,
   "id": "2a851f15",
   "metadata": {},
   "outputs": [
    {
     "name": "stdout",
     "output_type": "stream",
     "text": [
      "ADF statistic: -3.598622\n",
      "p-value: 0.005787\n",
      "Critical values:\n",
      "\t1%: -3.578\n",
      "\t5%: -2.925\n",
      "\t10%: -2.601\n"
     ]
    }
   ],
   "source": [
    "res=adfuller(df_monthly_quantity,autolag='AIC')\n",
    "print('ADF statistic: %f'%res[0])\n",
    "print('p-value: %f'%res[1])\n",
    "print('Critical values:')\n",
    "for key,value in res[4].items():\n",
    "    print('\\t%s: %.3f'%(key,value))"
   ]
  },
  {
   "cell_type": "code",
   "execution_count": 41,
   "id": "7dca553d",
   "metadata": {},
   "outputs": [],
   "source": [
    "#KPSS test\n",
    "#H0=stationary\n",
    "#H1=non-stationary"
   ]
  },
  {
   "cell_type": "code",
   "execution_count": 46,
   "id": "3a58801b",
   "metadata": {},
   "outputs": [],
   "source": [
    "kpss_res=kpss(df_monthly_quantity,nlags='auto')"
   ]
  },
  {
   "cell_type": "code",
   "execution_count": 47,
   "id": "da4ab378",
   "metadata": {},
   "outputs": [
    {
     "data": {
      "text/plain": [
       "0.01"
      ]
     },
     "execution_count": 47,
     "metadata": {},
     "output_type": "execute_result"
    }
   ],
   "source": [
    "kpss_res[1]"
   ]
  },
  {
   "cell_type": "code",
   "execution_count": 48,
   "id": "2dbe1075",
   "metadata": {},
   "outputs": [
    {
     "data": {
      "text/plain": [
       "0.7624837353355493"
      ]
     },
     "execution_count": 48,
     "metadata": {},
     "output_type": "execute_result"
    }
   ],
   "source": [
    "kpss_res[0]"
   ]
  },
  {
   "cell_type": "markdown",
   "id": "eb70f87f",
   "metadata": {},
   "source": [
    "The p value is less than 0.05, so we will reject the null hypothesis that the data is stationary. Hence, the data is not stationary."
   ]
  },
  {
   "cell_type": "code",
   "execution_count": 49,
   "id": "16621488",
   "metadata": {},
   "outputs": [],
   "source": [
    "#decomposing the timeseries"
   ]
  },
  {
   "cell_type": "code",
   "execution_count": 51,
   "id": "23550eaa",
   "metadata": {},
   "outputs": [],
   "source": [
    "import statsmodels.api as sm\n",
    "from pylab import rcParams"
   ]
  },
  {
   "cell_type": "code",
   "execution_count": 54,
   "id": "e32838b6",
   "metadata": {},
   "outputs": [
    {
     "data": {
      "image/png": "[encoded data removed]",
      "text/plain": [
       "<Figure size 1080x576 with 4 Axes>"
      ]
     },
     "metadata": {
      "needs_background": "light"
     },
     "output_type": "display_data"
    }
   ],
   "source": [
    "rcParams['figure.figsize']=15,8\n",
    "decomposition=sm.tsa.seasonal_decompose(df_monthly_quantity,model='additive')\n",
    "decomposition.plot()\n",
    "plt.show()"
   ]
  },
  {
   "cell_type": "code",
   "execution_count": 55,
   "id": "6c0a1ee5",
   "metadata": {},
   "outputs": [],
   "source": [
    "#forecasting the model"
   ]
  },
  {
   "cell_type": "code",
   "execution_count": 56,
   "id": "e1c8f9e5",
   "metadata": {},
   "outputs": [],
   "source": [
    "import itertools"
   ]
  },
  {
   "cell_type": "code",
   "execution_count": 96,
   "id": "5d861a3a",
   "metadata": {},
   "outputs": [],
   "source": [
    "p=d=q=range(0,3)\n",
    "pdq=list(itertools.product(p,d,q))\n",
    "seasonal_pdq=[(x[0],x[1],x[2],12) for x in pdq]"
   ]
  },
  {
   "cell_type": "code",
   "execution_count": 97,
   "id": "092ec94b",
   "metadata": {},
   "outputs": [
    {
     "name": "stdout",
     "output_type": "stream",
     "text": [
      "SARIMAX: (0, 0, 0) x (0, 0, 0, 12)\n",
      "SARIMAX: (0, 0, 1) x (0, 0, 1, 12)\n",
      "SARIMAX: (0, 0, 2) x (0, 0, 2, 12)\n",
      "SARIMAX: (0, 1, 0) x (0, 1, 0, 12)\n",
      "SARIMAX: (0, 1, 1) x (0, 1, 1, 12)\n",
      "SARIMAX: (0, 1, 2) x (0, 1, 2, 12)\n",
      "SARIMAX: (0, 2, 0) x (0, 2, 0, 12)\n",
      "SARIMAX: (0, 2, 1) x (0, 2, 1, 12)\n",
      "SARIMAX: (0, 2, 2) x (0, 2, 2, 12)\n",
      "SARIMAX: (1, 0, 0) x (1, 0, 0, 12)\n",
      "SARIMAX: (1, 0, 1) x (1, 0, 1, 12)\n",
      "SARIMAX: (1, 0, 2) x (1, 0, 2, 12)\n",
      "SARIMAX: (1, 1, 0) x (1, 1, 0, 12)\n",
      "SARIMAX: (1, 1, 1) x (1, 1, 1, 12)\n",
      "SARIMAX: (1, 1, 2) x (1, 1, 2, 12)\n",
      "SARIMAX: (1, 2, 0) x (1, 2, 0, 12)\n",
      "SARIMAX: (1, 2, 1) x (1, 2, 1, 12)\n",
      "SARIMAX: (1, 2, 2) x (1, 2, 2, 12)\n",
      "SARIMAX: (2, 0, 0) x (2, 0, 0, 12)\n",
      "SARIMAX: (2, 0, 1) x (2, 0, 1, 12)\n",
      "SARIMAX: (2, 0, 2) x (2, 0, 2, 12)\n",
      "SARIMAX: (2, 1, 0) x (2, 1, 0, 12)\n",
      "SARIMAX: (2, 1, 1) x (2, 1, 1, 12)\n",
      "SARIMAX: (2, 1, 2) x (2, 1, 2, 12)\n",
      "SARIMAX: (2, 2, 0) x (2, 2, 0, 12)\n",
      "SARIMAX: (2, 2, 1) x (2, 2, 1, 12)\n",
      "SARIMAX: (2, 2, 2) x (2, 2, 2, 12)\n"
     ]
    }
   ],
   "source": [
    "for i in range(len(pdq)):\n",
    "    print('SARIMAX: {} x {}'.format(pdq[i],seasonal_pdq[i]))"
   ]
  },
  {
   "cell_type": "code",
   "execution_count": 98,
   "id": "21074d72",
   "metadata": {},
   "outputs": [],
   "source": [
    "#Model Building"
   ]
  },
  {
   "cell_type": "code",
   "execution_count": 99,
   "id": "24cd08cf",
   "metadata": {
    "scrolled": true
   },
   "outputs": [
    {
     "name": "stdout",
     "output_type": "stream",
     "text": [
      "ARIMA: 1 x (0, 0, 0)12.AIC: (0, 0, 0, 12)\n",
      "ARIMA: 2 x (0, 0, 0)12.AIC: (0, 0, 1, 12)\n",
      "ARIMA: 3 x (0, 0, 0)12.AIC: (0, 0, 2, 12)\n",
      "ARIMA: 4 x (0, 0, 0)12.AIC: (0, 1, 0, 12)\n",
      "ARIMA: 5 x (0, 0, 0)12.AIC: (0, 1, 1, 12)\n",
      "ARIMA: 6 x (0, 0, 0)12.AIC: (0, 1, 2, 12)\n",
      "ARIMA: 7 x (0, 0, 0)12.AIC: (0, 2, 0, 12)\n",
      "ARIMA: 8 x (0, 0, 0)12.AIC: (0, 2, 1, 12)\n",
      "ARIMA: 9 x (0, 0, 0)12.AIC: (0, 2, 2, 12)\n",
      "ARIMA: 10 x (0, 0, 0)12.AIC: (1, 0, 0, 12)\n",
      "ARIMA: 11 x (0, 0, 0)12.AIC: (1, 0, 1, 12)\n",
      "ARIMA: 12 x (0, 0, 0)12.AIC: (1, 0, 2, 12)\n",
      "ARIMA: 13 x (0, 0, 0)12.AIC: (1, 1, 0, 12)\n",
      "ARIMA: 14 x (0, 0, 0)12.AIC: (1, 1, 1, 12)\n",
      "ARIMA: 15 x (0, 0, 0)12.AIC: (1, 1, 2, 12)\n",
      "ARIMA: 16 x (0, 0, 0)12.AIC: (1, 2, 0, 12)\n",
      "ARIMA: 17 x (0, 0, 0)12.AIC: (1, 2, 1, 12)\n",
      "ARIMA: 18 x (0, 0, 0)12.AIC: (1, 2, 2, 12)\n",
      "ARIMA: 19 x (0, 0, 0)12.AIC: (2, 0, 0, 12)\n",
      "ARIMA: 20 x (0, 0, 0)12.AIC: (2, 0, 1, 12)\n",
      "ARIMA: 21 x (0, 0, 0)12.AIC: (2, 0, 2, 12)\n",
      "ARIMA: 22 x (0, 0, 0)12.AIC: (2, 1, 0, 12)\n",
      "ARIMA: 23 x (0, 0, 0)12.AIC: (2, 1, 1, 12)\n",
      "ARIMA: 24 x (0, 0, 0)12.AIC: (2, 1, 2, 12)\n",
      "ARIMA: 25 x (0, 0, 0)12.AIC: (2, 2, 0, 12)\n",
      "ARIMA: 26 x (0, 0, 0)12.AIC: (2, 2, 1, 12)\n",
      "ARIMA: 27 x (0, 0, 0)12.AIC: (2, 2, 2, 12)\n",
      "ARIMA: 28 x (0, 0, 1)12.AIC: (0, 0, 0, 12)\n",
      "ARIMA: 29 x (0, 0, 1)12.AIC: (0, 0, 1, 12)\n",
      "ARIMA: 30 x (0, 0, 1)12.AIC: (0, 0, 2, 12)\n",
      "ARIMA: 31 x (0, 0, 1)12.AIC: (0, 1, 0, 12)\n",
      "ARIMA: 32 x (0, 0, 1)12.AIC: (0, 1, 1, 12)\n",
      "ARIMA: 33 x (0, 0, 1)12.AIC: (0, 1, 2, 12)\n",
      "ARIMA: 34 x (0, 0, 1)12.AIC: (0, 2, 0, 12)\n",
      "ARIMA: 35 x (0, 0, 1)12.AIC: (0, 2, 1, 12)\n",
      "ARIMA: 36 x (0, 0, 1)12.AIC: (0, 2, 2, 12)\n",
      "ARIMA: 37 x (0, 0, 1)12.AIC: (1, 0, 0, 12)\n",
      "ARIMA: 38 x (0, 0, 1)12.AIC: (1, 0, 1, 12)\n",
      "ARIMA: 39 x (0, 0, 1)12.AIC: (1, 0, 2, 12)\n",
      "ARIMA: 40 x (0, 0, 1)12.AIC: (1, 1, 0, 12)\n",
      "ARIMA: 41 x (0, 0, 1)12.AIC: (1, 1, 1, 12)\n",
      "ARIMA: 42 x (0, 0, 1)12.AIC: (1, 1, 2, 12)\n",
      "ARIMA: 43 x (0, 0, 1)12.AIC: (1, 2, 0, 12)\n",
      "ARIMA: 44 x (0, 0, 1)12.AIC: (1, 2, 1, 12)\n",
      "ARIMA: 45 x (0, 0, 1)12.AIC: (1, 2, 2, 12)\n",
      "ARIMA: 46 x (0, 0, 1)12.AIC: (2, 0, 0, 12)\n",
      "ARIMA: 47 x (0, 0, 1)12.AIC: (2, 0, 1, 12)\n",
      "ARIMA: 48 x (0, 0, 1)12.AIC: (2, 0, 2, 12)\n",
      "ARIMA: 49 x (0, 0, 1)12.AIC: (2, 1, 0, 12)\n",
      "ARIMA: 50 x (0, 0, 1)12.AIC: (2, 1, 1, 12)\n",
      "ARIMA: 51 x (0, 0, 1)12.AIC: (2, 1, 2, 12)\n",
      "ARIMA: 52 x (0, 0, 1)12.AIC: (2, 2, 0, 12)\n",
      "ARIMA: 53 x (0, 0, 1)12.AIC: (2, 2, 1, 12)\n",
      "ARIMA: 54 x (0, 0, 1)12.AIC: (2, 2, 2, 12)\n",
      "ARIMA: 55 x (0, 0, 2)12.AIC: (0, 0, 0, 12)\n",
      "ARIMA: 56 x (0, 0, 2)12.AIC: (0, 0, 1, 12)\n",
      "ARIMA: 57 x (0, 0, 2)12.AIC: (0, 0, 2, 12)\n",
      "ARIMA: 58 x (0, 0, 2)12.AIC: (0, 1, 0, 12)\n",
      "ARIMA: 59 x (0, 0, 2)12.AIC: (0, 1, 1, 12)\n",
      "ARIMA: 60 x (0, 0, 2)12.AIC: (0, 1, 2, 12)\n",
      "ARIMA: 61 x (0, 0, 2)12.AIC: (0, 2, 0, 12)\n",
      "ARIMA: 62 x (0, 0, 2)12.AIC: (0, 2, 1, 12)\n",
      "ARIMA: 63 x (0, 0, 2)12.AIC: (0, 2, 2, 12)\n",
      "ARIMA: 64 x (0, 0, 2)12.AIC: (1, 0, 0, 12)\n",
      "ARIMA: 65 x (0, 0, 2)12.AIC: (1, 0, 1, 12)\n",
      "ARIMA: 66 x (0, 0, 2)12.AIC: (1, 0, 2, 12)\n",
      "ARIMA: 67 x (0, 0, 2)12.AIC: (1, 1, 0, 12)\n",
      "ARIMA: 68 x (0, 0, 2)12.AIC: (1, 1, 1, 12)\n",
      "ARIMA: 69 x (0, 0, 2)12.AIC: (1, 1, 2, 12)\n",
      "ARIMA: 70 x (0, 0, 2)12.AIC: (1, 2, 0, 12)\n",
      "ARIMA: 71 x (0, 0, 2)12.AIC: (1, 2, 1, 12)\n",
      "ARIMA: 72 x (0, 0, 2)12.AIC: (1, 2, 2, 12)\n",
      "ARIMA: 73 x (0, 0, 2)12.AIC: (2, 0, 0, 12)\n",
      "ARIMA: 74 x (0, 0, 2)12.AIC: (2, 0, 1, 12)\n",
      "ARIMA: 75 x (0, 0, 2)12.AIC: (2, 0, 2, 12)\n",
      "ARIMA: 76 x (0, 0, 2)12.AIC: (2, 1, 0, 12)\n",
      "ARIMA: 77 x (0, 0, 2)12.AIC: (2, 1, 1, 12)\n",
      "ARIMA: 78 x (0, 0, 2)12.AIC: (2, 1, 2, 12)\n",
      "ARIMA: 79 x (0, 0, 2)12.AIC: (2, 2, 0, 12)\n",
      "ARIMA: 80 x (0, 0, 2)12.AIC: (2, 2, 1, 12)\n",
      "ARIMA: 81 x (0, 0, 2)12.AIC: (2, 2, 2, 12)\n",
      "ARIMA: 82 x (0, 1, 0)12.AIC: (0, 0, 0, 12)\n",
      "ARIMA: 83 x (0, 1, 0)12.AIC: (0, 0, 1, 12)\n",
      "ARIMA: 84 x (0, 1, 0)12.AIC: (0, 0, 2, 12)\n",
      "ARIMA: 85 x (0, 1, 0)12.AIC: (0, 1, 0, 12)\n",
      "ARIMA: 86 x (0, 1, 0)12.AIC: (0, 1, 1, 12)\n",
      "ARIMA: 87 x (0, 1, 0)12.AIC: (0, 1, 2, 12)\n",
      "ARIMA: 88 x (0, 1, 0)12.AIC: (0, 2, 0, 12)\n",
      "ARIMA: 89 x (0, 1, 0)12.AIC: (0, 2, 1, 12)\n",
      "ARIMA: 90 x (0, 1, 0)12.AIC: (0, 2, 2, 12)\n",
      "ARIMA: 91 x (0, 1, 0)12.AIC: (1, 0, 0, 12)\n",
      "ARIMA: 92 x (0, 1, 0)12.AIC: (1, 0, 1, 12)\n",
      "ARIMA: 93 x (0, 1, 0)12.AIC: (1, 0, 2, 12)\n",
      "ARIMA: 94 x (0, 1, 0)12.AIC: (1, 1, 0, 12)\n",
      "ARIMA: 95 x (0, 1, 0)12.AIC: (1, 1, 1, 12)\n",
      "ARIMA: 96 x (0, 1, 0)12.AIC: (1, 1, 2, 12)\n",
      "ARIMA: 97 x (0, 1, 0)12.AIC: (1, 2, 0, 12)\n",
      "ARIMA: 98 x (0, 1, 0)12.AIC: (1, 2, 1, 12)\n",
      "ARIMA: 99 x (0, 1, 0)12.AIC: (1, 2, 2, 12)\n",
      "ARIMA: 100 x (0, 1, 0)12.AIC: (2, 0, 0, 12)\n",
      "ARIMA: 101 x (0, 1, 0)12.AIC: (2, 0, 1, 12)\n",
      "ARIMA: 102 x (0, 1, 0)12.AIC: (2, 0, 2, 12)\n",
      "ARIMA: 103 x (0, 1, 0)12.AIC: (2, 1, 0, 12)\n",
      "ARIMA: 104 x (0, 1, 0)12.AIC: (2, 1, 1, 12)\n",
      "ARIMA: 105 x (0, 1, 0)12.AIC: (2, 1, 2, 12)\n",
      "ARIMA: 106 x (0, 1, 0)12.AIC: (2, 2, 0, 12)\n",
      "ARIMA: 107 x (0, 1, 0)12.AIC: (2, 2, 1, 12)\n",
      "ARIMA: 108 x (0, 1, 0)12.AIC: (2, 2, 2, 12)\n",
      "ARIMA: 109 x (0, 1, 1)12.AIC: (0, 0, 0, 12)\n",
      "ARIMA: 110 x (0, 1, 1)12.AIC: (0, 0, 1, 12)\n",
      "ARIMA: 111 x (0, 1, 1)12.AIC: (0, 0, 2, 12)\n",
      "ARIMA: 112 x (0, 1, 1)12.AIC: (0, 1, 0, 12)\n",
      "ARIMA: 113 x (0, 1, 1)12.AIC: (0, 1, 1, 12)\n",
      "ARIMA: 114 x (0, 1, 1)12.AIC: (0, 1, 2, 12)\n",
      "ARIMA: 115 x (0, 1, 1)12.AIC: (0, 2, 0, 12)\n",
      "ARIMA: 116 x (0, 1, 1)12.AIC: (0, 2, 1, 12)\n",
      "ARIMA: 117 x (0, 1, 1)12.AIC: (0, 2, 2, 12)\n",
      "ARIMA: 118 x (0, 1, 1)12.AIC: (1, 0, 0, 12)\n",
      "ARIMA: 119 x (0, 1, 1)12.AIC: (1, 0, 1, 12)\n",
      "ARIMA: 120 x (0, 1, 1)12.AIC: (1, 0, 2, 12)\n",
      "ARIMA: 121 x (0, 1, 1)12.AIC: (1, 1, 0, 12)\n",
      "ARIMA: 122 x (0, 1, 1)12.AIC: (1, 1, 1, 12)\n",
      "ARIMA: 123 x (0, 1, 1)12.AIC: (1, 1, 2, 12)\n",
      "ARIMA: 124 x (0, 1, 1)12.AIC: (1, 2, 0, 12)\n",
      "ARIMA: 125 x (0, 1, 1)12.AIC: (1, 2, 1, 12)\n",
      "ARIMA: 126 x (0, 1, 1)12.AIC: (1, 2, 2, 12)\n",
      "ARIMA: 127 x (0, 1, 1)12.AIC: (2, 0, 0, 12)\n",
      "ARIMA: 128 x (0, 1, 1)12.AIC: (2, 0, 1, 12)\n",
      "ARIMA: 129 x (0, 1, 1)12.AIC: (2, 0, 2, 12)\n",
      "ARIMA: 130 x (0, 1, 1)12.AIC: (2, 1, 0, 12)\n",
      "ARIMA: 131 x (0, 1, 1)12.AIC: (2, 1, 1, 12)\n",
      "ARIMA: 132 x (0, 1, 1)12.AIC: (2, 1, 2, 12)\n",
      "ARIMA: 133 x (0, 1, 1)12.AIC: (2, 2, 0, 12)\n",
      "ARIMA: 134 x (0, 1, 1)12.AIC: (2, 2, 1, 12)\n",
      "ARIMA: 135 x (0, 1, 1)12.AIC: (2, 2, 2, 12)\n",
      "ARIMA: 136 x (0, 1, 2)12.AIC: (0, 0, 0, 12)\n",
      "ARIMA: 137 x (0, 1, 2)12.AIC: (0, 0, 1, 12)\n",
      "ARIMA: 138 x (0, 1, 2)12.AIC: (0, 0, 2, 12)\n",
      "ARIMA: 139 x (0, 1, 2)12.AIC: (0, 1, 0, 12)\n",
      "ARIMA: 140 x (0, 1, 2)12.AIC: (0, 1, 1, 12)\n",
      "ARIMA: 141 x (0, 1, 2)12.AIC: (0, 1, 2, 12)\n",
      "ARIMA: 142 x (0, 1, 2)12.AIC: (0, 2, 0, 12)\n",
      "ARIMA: 143 x (0, 1, 2)12.AIC: (0, 2, 1, 12)\n",
      "ARIMA: 144 x (0, 1, 2)12.AIC: (0, 2, 2, 12)\n",
      "ARIMA: 145 x (0, 1, 2)12.AIC: (1, 0, 0, 12)\n",
      "ARIMA: 146 x (0, 1, 2)12.AIC: (1, 0, 1, 12)\n",
      "ARIMA: 147 x (0, 1, 2)12.AIC: (1, 0, 2, 12)\n",
      "ARIMA: 148 x (0, 1, 2)12.AIC: (1, 1, 0, 12)\n",
      "ARIMA: 149 x (0, 1, 2)12.AIC: (1, 1, 1, 12)\n",
      "ARIMA: 150 x (0, 1, 2)12.AIC: (1, 1, 2, 12)\n",
      "ARIMA: 151 x (0, 1, 2)12.AIC: (1, 2, 0, 12)\n",
      "ARIMA: 152 x (0, 1, 2)12.AIC: (1, 2, 1, 12)\n",
      "ARIMA: 153 x (0, 1, 2)12.AIC: (1, 2, 2, 12)\n",
      "ARIMA: 154 x (0, 1, 2)12.AIC: (2, 0, 0, 12)\n",
      "ARIMA: 155 x (0, 1, 2)12.AIC: (2, 0, 1, 12)\n",
      "ARIMA: 156 x (0, 1, 2)12.AIC: (2, 0, 2, 12)\n",
      "ARIMA: 157 x (0, 1, 2)12.AIC: (2, 1, 0, 12)\n",
      "ARIMA: 158 x (0, 1, 2)12.AIC: (2, 1, 1, 12)\n",
      "ARIMA: 159 x (0, 1, 2)12.AIC: (2, 1, 2, 12)\n",
      "ARIMA: 160 x (0, 1, 2)12.AIC: (2, 2, 0, 12)\n",
      "ARIMA: 161 x (0, 1, 2)12.AIC: (2, 2, 1, 12)\n",
      "ARIMA: 162 x (0, 1, 2)12.AIC: (2, 2, 2, 12)\n",
      "ARIMA: 163 x (0, 2, 0)12.AIC: (0, 0, 0, 12)\n",
      "ARIMA: 164 x (0, 2, 0)12.AIC: (0, 0, 1, 12)\n",
      "ARIMA: 165 x (0, 2, 0)12.AIC: (0, 0, 2, 12)\n",
      "ARIMA: 166 x (0, 2, 0)12.AIC: (0, 1, 0, 12)\n",
      "ARIMA: 167 x (0, 2, 0)12.AIC: (0, 1, 1, 12)\n",
      "ARIMA: 168 x (0, 2, 0)12.AIC: (0, 1, 2, 12)\n",
      "ARIMA: 169 x (0, 2, 0)12.AIC: (0, 2, 0, 12)\n",
      "ARIMA: 170 x (0, 2, 0)12.AIC: (0, 2, 1, 12)\n",
      "ARIMA: 171 x (0, 2, 0)12.AIC: (0, 2, 2, 12)\n",
      "ARIMA: 172 x (0, 2, 0)12.AIC: (1, 0, 0, 12)\n",
      "ARIMA: 173 x (0, 2, 0)12.AIC: (1, 0, 1, 12)\n",
      "ARIMA: 174 x (0, 2, 0)12.AIC: (1, 0, 2, 12)\n",
      "ARIMA: 175 x (0, 2, 0)12.AIC: (1, 1, 0, 12)\n",
      "ARIMA: 176 x (0, 2, 0)12.AIC: (1, 1, 1, 12)\n",
      "ARIMA: 177 x (0, 2, 0)12.AIC: (1, 1, 2, 12)\n",
      "ARIMA: 178 x (0, 2, 0)12.AIC: (1, 2, 0, 12)\n",
      "ARIMA: 179 x (0, 2, 0)12.AIC: (1, 2, 1, 12)\n",
      "ARIMA: 180 x (0, 2, 0)12.AIC: (1, 2, 2, 12)\n",
      "ARIMA: 181 x (0, 2, 0)12.AIC: (2, 0, 0, 12)\n",
      "ARIMA: 182 x (0, 2, 0)12.AIC: (2, 0, 1, 12)\n",
      "ARIMA: 183 x (0, 2, 0)12.AIC: (2, 0, 2, 12)\n",
      "ARIMA: 184 x (0, 2, 0)12.AIC: (2, 1, 0, 12)\n",
      "ARIMA: 185 x (0, 2, 0)12.AIC: (2, 1, 1, 12)\n",
      "ARIMA: 186 x (0, 2, 0)12.AIC: (2, 1, 2, 12)\n",
      "ARIMA: 187 x (0, 2, 0)12.AIC: (2, 2, 0, 12)\n",
      "ARIMA: 188 x (0, 2, 0)12.AIC: (2, 2, 1, 12)\n",
      "ARIMA: 189 x (0, 2, 0)12.AIC: (2, 2, 2, 12)\n",
      "ARIMA: 190 x (0, 2, 1)12.AIC: (0, 0, 0, 12)\n"
     ]
    },
    {
     "name": "stdout",
     "output_type": "stream",
     "text": [
      "ARIMA: 191 x (0, 2, 1)12.AIC: (0, 0, 1, 12)\n",
      "ARIMA: 192 x (0, 2, 1)12.AIC: (0, 0, 2, 12)\n",
      "ARIMA: 193 x (0, 2, 1)12.AIC: (0, 1, 0, 12)\n",
      "ARIMA: 194 x (0, 2, 1)12.AIC: (0, 1, 1, 12)\n",
      "ARIMA: 195 x (0, 2, 1)12.AIC: (0, 1, 2, 12)\n",
      "ARIMA: 196 x (0, 2, 1)12.AIC: (0, 2, 0, 12)\n",
      "ARIMA: 197 x (0, 2, 1)12.AIC: (0, 2, 1, 12)\n",
      "ARIMA: 198 x (0, 2, 1)12.AIC: (0, 2, 2, 12)\n",
      "ARIMA: 199 x (0, 2, 1)12.AIC: (1, 0, 0, 12)\n",
      "ARIMA: 200 x (0, 2, 1)12.AIC: (1, 0, 1, 12)\n",
      "ARIMA: 201 x (0, 2, 1)12.AIC: (1, 0, 2, 12)\n",
      "ARIMA: 202 x (0, 2, 1)12.AIC: (1, 1, 0, 12)\n",
      "ARIMA: 203 x (0, 2, 1)12.AIC: (1, 1, 1, 12)\n",
      "ARIMA: 204 x (0, 2, 1)12.AIC: (1, 1, 2, 12)\n",
      "ARIMA: 205 x (0, 2, 1)12.AIC: (1, 2, 0, 12)\n",
      "ARIMA: 206 x (0, 2, 1)12.AIC: (1, 2, 1, 12)\n",
      "ARIMA: 207 x (0, 2, 1)12.AIC: (1, 2, 2, 12)\n",
      "ARIMA: 208 x (0, 2, 1)12.AIC: (2, 0, 0, 12)\n",
      "ARIMA: 209 x (0, 2, 1)12.AIC: (2, 0, 1, 12)\n",
      "ARIMA: 210 x (0, 2, 1)12.AIC: (2, 0, 2, 12)\n",
      "ARIMA: 211 x (0, 2, 1)12.AIC: (2, 1, 0, 12)\n",
      "ARIMA: 212 x (0, 2, 1)12.AIC: (2, 1, 1, 12)\n",
      "ARIMA: 213 x (0, 2, 1)12.AIC: (2, 1, 2, 12)\n",
      "ARIMA: 214 x (0, 2, 1)12.AIC: (2, 2, 0, 12)\n",
      "ARIMA: 215 x (0, 2, 1)12.AIC: (2, 2, 1, 12)\n",
      "ARIMA: 216 x (0, 2, 1)12.AIC: (2, 2, 2, 12)\n",
      "ARIMA: 217 x (0, 2, 2)12.AIC: (0, 0, 0, 12)\n",
      "ARIMA: 218 x (0, 2, 2)12.AIC: (0, 0, 1, 12)\n",
      "ARIMA: 219 x (0, 2, 2)12.AIC: (0, 0, 2, 12)\n",
      "ARIMA: 220 x (0, 2, 2)12.AIC: (0, 1, 0, 12)\n",
      "ARIMA: 221 x (0, 2, 2)12.AIC: (0, 1, 1, 12)\n",
      "ARIMA: 222 x (0, 2, 2)12.AIC: (0, 1, 2, 12)\n",
      "ARIMA: 223 x (0, 2, 2)12.AIC: (0, 2, 0, 12)\n",
      "ARIMA: 224 x (0, 2, 2)12.AIC: (0, 2, 1, 12)\n",
      "ARIMA: 225 x (0, 2, 2)12.AIC: (0, 2, 2, 12)\n",
      "ARIMA: 226 x (0, 2, 2)12.AIC: (1, 0, 0, 12)\n",
      "ARIMA: 227 x (0, 2, 2)12.AIC: (1, 0, 1, 12)\n",
      "ARIMA: 228 x (0, 2, 2)12.AIC: (1, 0, 2, 12)\n",
      "ARIMA: 229 x (0, 2, 2)12.AIC: (1, 1, 0, 12)\n",
      "ARIMA: 230 x (0, 2, 2)12.AIC: (1, 1, 1, 12)\n",
      "ARIMA: 231 x (0, 2, 2)12.AIC: (1, 1, 2, 12)\n",
      "ARIMA: 232 x (0, 2, 2)12.AIC: (1, 2, 0, 12)\n",
      "ARIMA: 233 x (0, 2, 2)12.AIC: (1, 2, 1, 12)\n",
      "ARIMA: 234 x (0, 2, 2)12.AIC: (1, 2, 2, 12)\n",
      "ARIMA: 235 x (0, 2, 2)12.AIC: (2, 0, 0, 12)\n",
      "ARIMA: 236 x (0, 2, 2)12.AIC: (2, 0, 1, 12)\n",
      "ARIMA: 237 x (0, 2, 2)12.AIC: (2, 0, 2, 12)\n",
      "ARIMA: 238 x (0, 2, 2)12.AIC: (2, 1, 0, 12)\n",
      "ARIMA: 239 x (0, 2, 2)12.AIC: (2, 1, 1, 12)\n",
      "ARIMA: 240 x (0, 2, 2)12.AIC: (2, 1, 2, 12)\n",
      "ARIMA: 241 x (0, 2, 2)12.AIC: (2, 2, 0, 12)\n",
      "ARIMA: 242 x (0, 2, 2)12.AIC: (2, 2, 1, 12)\n",
      "ARIMA: 243 x (0, 2, 2)12.AIC: (2, 2, 2, 12)\n",
      "ARIMA: 244 x (1, 0, 0)12.AIC: (0, 0, 0, 12)\n",
      "ARIMA: 245 x (1, 0, 0)12.AIC: (0, 0, 1, 12)\n",
      "ARIMA: 246 x (1, 0, 0)12.AIC: (0, 0, 2, 12)\n",
      "ARIMA: 247 x (1, 0, 0)12.AIC: (0, 1, 0, 12)\n",
      "ARIMA: 248 x (1, 0, 0)12.AIC: (0, 1, 1, 12)\n",
      "ARIMA: 249 x (1, 0, 0)12.AIC: (0, 1, 2, 12)\n",
      "ARIMA: 250 x (1, 0, 0)12.AIC: (0, 2, 0, 12)\n",
      "ARIMA: 251 x (1, 0, 0)12.AIC: (0, 2, 1, 12)\n",
      "ARIMA: 252 x (1, 0, 0)12.AIC: (0, 2, 2, 12)\n",
      "ARIMA: 253 x (1, 0, 0)12.AIC: (1, 0, 0, 12)\n",
      "ARIMA: 254 x (1, 0, 0)12.AIC: (1, 0, 1, 12)\n",
      "ARIMA: 255 x (1, 0, 0)12.AIC: (1, 0, 2, 12)\n",
      "ARIMA: 256 x (1, 0, 0)12.AIC: (1, 1, 0, 12)\n",
      "ARIMA: 257 x (1, 0, 0)12.AIC: (1, 1, 1, 12)\n",
      "ARIMA: 258 x (1, 0, 0)12.AIC: (1, 1, 2, 12)\n",
      "ARIMA: 259 x (1, 0, 0)12.AIC: (1, 2, 0, 12)\n",
      "ARIMA: 260 x (1, 0, 0)12.AIC: (1, 2, 1, 12)\n",
      "ARIMA: 261 x (1, 0, 0)12.AIC: (1, 2, 2, 12)\n",
      "ARIMA: 262 x (1, 0, 0)12.AIC: (2, 0, 0, 12)\n",
      "ARIMA: 263 x (1, 0, 0)12.AIC: (2, 0, 1, 12)\n",
      "ARIMA: 264 x (1, 0, 0)12.AIC: (2, 0, 2, 12)\n",
      "ARIMA: 265 x (1, 0, 0)12.AIC: (2, 1, 0, 12)\n",
      "ARIMA: 266 x (1, 0, 0)12.AIC: (2, 1, 1, 12)\n",
      "ARIMA: 267 x (1, 0, 0)12.AIC: (2, 1, 2, 12)\n",
      "ARIMA: 268 x (1, 0, 0)12.AIC: (2, 2, 0, 12)\n",
      "ARIMA: 269 x (1, 0, 0)12.AIC: (2, 2, 1, 12)\n",
      "ARIMA: 270 x (1, 0, 0)12.AIC: (2, 2, 2, 12)\n",
      "ARIMA: 271 x (1, 0, 1)12.AIC: (0, 0, 0, 12)\n",
      "ARIMA: 272 x (1, 0, 1)12.AIC: (0, 0, 1, 12)\n",
      "ARIMA: 273 x (1, 0, 1)12.AIC: (0, 0, 2, 12)\n",
      "ARIMA: 274 x (1, 0, 1)12.AIC: (0, 1, 0, 12)\n",
      "ARIMA: 275 x (1, 0, 1)12.AIC: (0, 1, 1, 12)\n",
      "ARIMA: 276 x (1, 0, 1)12.AIC: (0, 1, 2, 12)\n",
      "ARIMA: 277 x (1, 0, 1)12.AIC: (0, 2, 0, 12)\n",
      "ARIMA: 278 x (1, 0, 1)12.AIC: (0, 2, 1, 12)\n",
      "ARIMA: 279 x (1, 0, 1)12.AIC: (0, 2, 2, 12)\n",
      "ARIMA: 280 x (1, 0, 1)12.AIC: (1, 0, 0, 12)\n",
      "ARIMA: 281 x (1, 0, 1)12.AIC: (1, 0, 1, 12)\n",
      "ARIMA: 282 x (1, 0, 1)12.AIC: (1, 0, 2, 12)\n",
      "ARIMA: 283 x (1, 0, 1)12.AIC: (1, 1, 0, 12)\n",
      "ARIMA: 284 x (1, 0, 1)12.AIC: (1, 1, 1, 12)\n",
      "ARIMA: 285 x (1, 0, 1)12.AIC: (1, 1, 2, 12)\n",
      "ARIMA: 286 x (1, 0, 1)12.AIC: (1, 2, 0, 12)\n",
      "ARIMA: 287 x (1, 0, 1)12.AIC: (1, 2, 1, 12)\n",
      "ARIMA: 288 x (1, 0, 1)12.AIC: (1, 2, 2, 12)\n",
      "ARIMA: 289 x (1, 0, 1)12.AIC: (2, 0, 0, 12)\n",
      "ARIMA: 290 x (1, 0, 1)12.AIC: (2, 0, 1, 12)\n",
      "ARIMA: 291 x (1, 0, 1)12.AIC: (2, 0, 2, 12)\n",
      "ARIMA: 292 x (1, 0, 1)12.AIC: (2, 1, 0, 12)\n",
      "ARIMA: 293 x (1, 0, 1)12.AIC: (2, 1, 1, 12)\n",
      "ARIMA: 294 x (1, 0, 1)12.AIC: (2, 1, 2, 12)\n",
      "ARIMA: 295 x (1, 0, 1)12.AIC: (2, 2, 0, 12)\n",
      "ARIMA: 296 x (1, 0, 1)12.AIC: (2, 2, 1, 12)\n",
      "ARIMA: 297 x (1, 0, 1)12.AIC: (2, 2, 2, 12)\n",
      "ARIMA: 298 x (1, 0, 2)12.AIC: (0, 0, 0, 12)\n",
      "ARIMA: 299 x (1, 0, 2)12.AIC: (0, 0, 1, 12)\n",
      "ARIMA: 300 x (1, 0, 2)12.AIC: (0, 0, 2, 12)\n",
      "ARIMA: 301 x (1, 0, 2)12.AIC: (0, 1, 0, 12)\n",
      "ARIMA: 302 x (1, 0, 2)12.AIC: (0, 1, 1, 12)\n",
      "ARIMA: 303 x (1, 0, 2)12.AIC: (0, 1, 2, 12)\n",
      "ARIMA: 304 x (1, 0, 2)12.AIC: (0, 2, 0, 12)\n",
      "ARIMA: 305 x (1, 0, 2)12.AIC: (0, 2, 1, 12)\n",
      "ARIMA: 306 x (1, 0, 2)12.AIC: (0, 2, 2, 12)\n",
      "ARIMA: 307 x (1, 0, 2)12.AIC: (1, 0, 0, 12)\n",
      "ARIMA: 308 x (1, 0, 2)12.AIC: (1, 0, 1, 12)\n",
      "ARIMA: 309 x (1, 0, 2)12.AIC: (1, 0, 2, 12)\n",
      "ARIMA: 310 x (1, 0, 2)12.AIC: (1, 1, 0, 12)\n",
      "ARIMA: 311 x (1, 0, 2)12.AIC: (1, 1, 1, 12)\n",
      "ARIMA: 312 x (1, 0, 2)12.AIC: (1, 1, 2, 12)\n",
      "ARIMA: 313 x (1, 0, 2)12.AIC: (1, 2, 0, 12)\n",
      "ARIMA: 314 x (1, 0, 2)12.AIC: (1, 2, 1, 12)\n",
      "ARIMA: 315 x (1, 0, 2)12.AIC: (1, 2, 2, 12)\n",
      "ARIMA: 316 x (1, 0, 2)12.AIC: (2, 0, 0, 12)\n",
      "ARIMA: 317 x (1, 0, 2)12.AIC: (2, 0, 1, 12)\n",
      "ARIMA: 318 x (1, 0, 2)12.AIC: (2, 0, 2, 12)\n",
      "ARIMA: 319 x (1, 0, 2)12.AIC: (2, 1, 0, 12)\n",
      "ARIMA: 320 x (1, 0, 2)12.AIC: (2, 1, 1, 12)\n",
      "ARIMA: 321 x (1, 0, 2)12.AIC: (2, 1, 2, 12)\n",
      "ARIMA: 322 x (1, 0, 2)12.AIC: (2, 2, 0, 12)\n",
      "ARIMA: 323 x (1, 0, 2)12.AIC: (2, 2, 1, 12)\n",
      "ARIMA: 324 x (1, 0, 2)12.AIC: (2, 2, 2, 12)\n",
      "ARIMA: 325 x (1, 1, 0)12.AIC: (0, 0, 0, 12)\n",
      "ARIMA: 326 x (1, 1, 0)12.AIC: (0, 0, 1, 12)\n",
      "ARIMA: 327 x (1, 1, 0)12.AIC: (0, 0, 2, 12)\n",
      "ARIMA: 328 x (1, 1, 0)12.AIC: (0, 1, 0, 12)\n",
      "ARIMA: 329 x (1, 1, 0)12.AIC: (0, 1, 1, 12)\n",
      "ARIMA: 330 x (1, 1, 0)12.AIC: (0, 1, 2, 12)\n",
      "ARIMA: 331 x (1, 1, 0)12.AIC: (0, 2, 0, 12)\n",
      "ARIMA: 332 x (1, 1, 0)12.AIC: (0, 2, 1, 12)\n",
      "ARIMA: 333 x (1, 1, 0)12.AIC: (0, 2, 2, 12)\n",
      "ARIMA: 334 x (1, 1, 0)12.AIC: (1, 0, 0, 12)\n",
      "ARIMA: 335 x (1, 1, 0)12.AIC: (1, 0, 1, 12)\n",
      "ARIMA: 336 x (1, 1, 0)12.AIC: (1, 0, 2, 12)\n",
      "ARIMA: 337 x (1, 1, 0)12.AIC: (1, 1, 0, 12)\n",
      "ARIMA: 338 x (1, 1, 0)12.AIC: (1, 1, 1, 12)\n",
      "ARIMA: 339 x (1, 1, 0)12.AIC: (1, 1, 2, 12)\n",
      "ARIMA: 340 x (1, 1, 0)12.AIC: (1, 2, 0, 12)\n",
      "ARIMA: 341 x (1, 1, 0)12.AIC: (1, 2, 1, 12)\n",
      "ARIMA: 342 x (1, 1, 0)12.AIC: (1, 2, 2, 12)\n",
      "ARIMA: 343 x (1, 1, 0)12.AIC: (2, 0, 0, 12)\n",
      "ARIMA: 344 x (1, 1, 0)12.AIC: (2, 0, 1, 12)\n",
      "ARIMA: 345 x (1, 1, 0)12.AIC: (2, 0, 2, 12)\n",
      "ARIMA: 346 x (1, 1, 0)12.AIC: (2, 1, 0, 12)\n",
      "ARIMA: 347 x (1, 1, 0)12.AIC: (2, 1, 1, 12)\n",
      "ARIMA: 348 x (1, 1, 0)12.AIC: (2, 1, 2, 12)\n",
      "ARIMA: 349 x (1, 1, 0)12.AIC: (2, 2, 0, 12)\n",
      "ARIMA: 350 x (1, 1, 0)12.AIC: (2, 2, 1, 12)\n",
      "ARIMA: 351 x (1, 1, 0)12.AIC: (2, 2, 2, 12)\n",
      "ARIMA: 352 x (1, 1, 1)12.AIC: (0, 0, 0, 12)\n",
      "ARIMA: 353 x (1, 1, 1)12.AIC: (0, 0, 1, 12)\n",
      "ARIMA: 354 x (1, 1, 1)12.AIC: (0, 0, 2, 12)\n",
      "ARIMA: 355 x (1, 1, 1)12.AIC: (0, 1, 0, 12)\n",
      "ARIMA: 356 x (1, 1, 1)12.AIC: (0, 1, 1, 12)\n",
      "ARIMA: 357 x (1, 1, 1)12.AIC: (0, 1, 2, 12)\n",
      "ARIMA: 358 x (1, 1, 1)12.AIC: (0, 2, 0, 12)\n",
      "ARIMA: 359 x (1, 1, 1)12.AIC: (0, 2, 1, 12)\n",
      "ARIMA: 360 x (1, 1, 1)12.AIC: (0, 2, 2, 12)\n",
      "ARIMA: 361 x (1, 1, 1)12.AIC: (1, 0, 0, 12)\n",
      "ARIMA: 362 x (1, 1, 1)12.AIC: (1, 0, 1, 12)\n",
      "ARIMA: 363 x (1, 1, 1)12.AIC: (1, 0, 2, 12)\n",
      "ARIMA: 364 x (1, 1, 1)12.AIC: (1, 1, 0, 12)\n",
      "ARIMA: 365 x (1, 1, 1)12.AIC: (1, 1, 1, 12)\n",
      "ARIMA: 366 x (1, 1, 1)12.AIC: (1, 1, 2, 12)\n",
      "ARIMA: 367 x (1, 1, 1)12.AIC: (1, 2, 0, 12)\n",
      "ARIMA: 368 x (1, 1, 1)12.AIC: (1, 2, 1, 12)\n",
      "ARIMA: 369 x (1, 1, 1)12.AIC: (1, 2, 2, 12)\n",
      "ARIMA: 370 x (1, 1, 1)12.AIC: (2, 0, 0, 12)\n",
      "ARIMA: 371 x (1, 1, 1)12.AIC: (2, 0, 1, 12)\n",
      "ARIMA: 372 x (1, 1, 1)12.AIC: (2, 0, 2, 12)\n",
      "ARIMA: 373 x (1, 1, 1)12.AIC: (2, 1, 0, 12)\n",
      "ARIMA: 374 x (1, 1, 1)12.AIC: (2, 1, 1, 12)\n",
      "ARIMA: 375 x (1, 1, 1)12.AIC: (2, 1, 2, 12)\n",
      "ARIMA: 376 x (1, 1, 1)12.AIC: (2, 2, 0, 12)\n",
      "ARIMA: 377 x (1, 1, 1)12.AIC: (2, 2, 1, 12)\n",
      "ARIMA: 378 x (1, 1, 1)12.AIC: (2, 2, 2, 12)\n"
     ]
    },
    {
     "name": "stdout",
     "output_type": "stream",
     "text": [
      "ARIMA: 379 x (1, 1, 2)12.AIC: (0, 0, 0, 12)\n",
      "ARIMA: 380 x (1, 1, 2)12.AIC: (0, 0, 1, 12)\n",
      "ARIMA: 381 x (1, 1, 2)12.AIC: (0, 0, 2, 12)\n",
      "ARIMA: 382 x (1, 1, 2)12.AIC: (0, 1, 0, 12)\n",
      "ARIMA: 383 x (1, 1, 2)12.AIC: (0, 1, 1, 12)\n",
      "ARIMA: 384 x (1, 1, 2)12.AIC: (0, 1, 2, 12)\n",
      "ARIMA: 385 x (1, 1, 2)12.AIC: (0, 2, 0, 12)\n",
      "ARIMA: 386 x (1, 1, 2)12.AIC: (0, 2, 1, 12)\n",
      "ARIMA: 387 x (1, 1, 2)12.AIC: (0, 2, 2, 12)\n",
      "ARIMA: 388 x (1, 1, 2)12.AIC: (1, 0, 0, 12)\n",
      "ARIMA: 389 x (1, 1, 2)12.AIC: (1, 0, 1, 12)\n",
      "ARIMA: 390 x (1, 1, 2)12.AIC: (1, 0, 2, 12)\n",
      "ARIMA: 391 x (1, 1, 2)12.AIC: (1, 1, 0, 12)\n",
      "ARIMA: 392 x (1, 1, 2)12.AIC: (1, 1, 1, 12)\n",
      "ARIMA: 393 x (1, 1, 2)12.AIC: (1, 1, 2, 12)\n",
      "ARIMA: 394 x (1, 1, 2)12.AIC: (1, 2, 0, 12)\n",
      "ARIMA: 395 x (1, 1, 2)12.AIC: (1, 2, 1, 12)\n",
      "ARIMA: 396 x (1, 1, 2)12.AIC: (1, 2, 2, 12)\n",
      "ARIMA: 397 x (1, 1, 2)12.AIC: (2, 0, 0, 12)\n",
      "ARIMA: 398 x (1, 1, 2)12.AIC: (2, 0, 1, 12)\n",
      "ARIMA: 399 x (1, 1, 2)12.AIC: (2, 0, 2, 12)\n",
      "ARIMA: 400 x (1, 1, 2)12.AIC: (2, 1, 0, 12)\n",
      "ARIMA: 401 x (1, 1, 2)12.AIC: (2, 1, 1, 12)\n",
      "ARIMA: 402 x (1, 1, 2)12.AIC: (2, 1, 2, 12)\n",
      "ARIMA: 403 x (1, 1, 2)12.AIC: (2, 2, 0, 12)\n",
      "ARIMA: 404 x (1, 1, 2)12.AIC: (2, 2, 1, 12)\n",
      "ARIMA: 405 x (1, 1, 2)12.AIC: (2, 2, 2, 12)\n",
      "ARIMA: 406 x (1, 2, 0)12.AIC: (0, 0, 0, 12)\n",
      "ARIMA: 407 x (1, 2, 0)12.AIC: (0, 0, 1, 12)\n",
      "ARIMA: 408 x (1, 2, 0)12.AIC: (0, 0, 2, 12)\n",
      "ARIMA: 409 x (1, 2, 0)12.AIC: (0, 1, 0, 12)\n",
      "ARIMA: 410 x (1, 2, 0)12.AIC: (0, 1, 1, 12)\n",
      "ARIMA: 411 x (1, 2, 0)12.AIC: (0, 1, 2, 12)\n",
      "ARIMA: 412 x (1, 2, 0)12.AIC: (0, 2, 0, 12)\n",
      "ARIMA: 413 x (1, 2, 0)12.AIC: (0, 2, 1, 12)\n",
      "ARIMA: 414 x (1, 2, 0)12.AIC: (0, 2, 2, 12)\n",
      "ARIMA: 415 x (1, 2, 0)12.AIC: (1, 0, 0, 12)\n",
      "ARIMA: 416 x (1, 2, 0)12.AIC: (1, 0, 1, 12)\n",
      "ARIMA: 417 x (1, 2, 0)12.AIC: (1, 0, 2, 12)\n",
      "ARIMA: 418 x (1, 2, 0)12.AIC: (1, 1, 0, 12)\n",
      "ARIMA: 419 x (1, 2, 0)12.AIC: (1, 1, 1, 12)\n",
      "ARIMA: 420 x (1, 2, 0)12.AIC: (1, 1, 2, 12)\n",
      "ARIMA: 421 x (1, 2, 0)12.AIC: (1, 2, 0, 12)\n",
      "ARIMA: 422 x (1, 2, 0)12.AIC: (1, 2, 1, 12)\n",
      "ARIMA: 423 x (1, 2, 0)12.AIC: (1, 2, 2, 12)\n",
      "ARIMA: 424 x (1, 2, 0)12.AIC: (2, 0, 0, 12)\n",
      "ARIMA: 425 x (1, 2, 0)12.AIC: (2, 0, 1, 12)\n",
      "ARIMA: 426 x (1, 2, 0)12.AIC: (2, 0, 2, 12)\n",
      "ARIMA: 427 x (1, 2, 0)12.AIC: (2, 1, 0, 12)\n",
      "ARIMA: 428 x (1, 2, 0)12.AIC: (2, 1, 1, 12)\n",
      "ARIMA: 429 x (1, 2, 0)12.AIC: (2, 1, 2, 12)\n",
      "ARIMA: 430 x (1, 2, 0)12.AIC: (2, 2, 0, 12)\n",
      "ARIMA: 431 x (1, 2, 0)12.AIC: (2, 2, 1, 12)\n",
      "ARIMA: 432 x (1, 2, 0)12.AIC: (2, 2, 2, 12)\n",
      "ARIMA: 433 x (1, 2, 1)12.AIC: (0, 0, 0, 12)\n",
      "ARIMA: 434 x (1, 2, 1)12.AIC: (0, 0, 1, 12)\n",
      "ARIMA: 435 x (1, 2, 1)12.AIC: (0, 0, 2, 12)\n",
      "ARIMA: 436 x (1, 2, 1)12.AIC: (0, 1, 0, 12)\n",
      "ARIMA: 437 x (1, 2, 1)12.AIC: (0, 1, 1, 12)\n",
      "ARIMA: 438 x (1, 2, 1)12.AIC: (0, 1, 2, 12)\n",
      "ARIMA: 439 x (1, 2, 1)12.AIC: (0, 2, 0, 12)\n",
      "ARIMA: 440 x (1, 2, 1)12.AIC: (0, 2, 1, 12)\n",
      "ARIMA: 441 x (1, 2, 1)12.AIC: (0, 2, 2, 12)\n",
      "ARIMA: 442 x (1, 2, 1)12.AIC: (1, 0, 0, 12)\n",
      "ARIMA: 443 x (1, 2, 1)12.AIC: (1, 0, 1, 12)\n",
      "ARIMA: 444 x (1, 2, 1)12.AIC: (1, 0, 2, 12)\n",
      "ARIMA: 445 x (1, 2, 1)12.AIC: (1, 1, 0, 12)\n",
      "ARIMA: 446 x (1, 2, 1)12.AIC: (1, 1, 1, 12)\n",
      "ARIMA: 447 x (1, 2, 1)12.AIC: (1, 1, 2, 12)\n",
      "ARIMA: 448 x (1, 2, 1)12.AIC: (1, 2, 0, 12)\n",
      "ARIMA: 449 x (1, 2, 1)12.AIC: (1, 2, 1, 12)\n",
      "ARIMA: 450 x (1, 2, 1)12.AIC: (1, 2, 2, 12)\n",
      "ARIMA: 451 x (1, 2, 1)12.AIC: (2, 0, 0, 12)\n",
      "ARIMA: 452 x (1, 2, 1)12.AIC: (2, 0, 1, 12)\n",
      "ARIMA: 453 x (1, 2, 1)12.AIC: (2, 0, 2, 12)\n",
      "ARIMA: 454 x (1, 2, 1)12.AIC: (2, 1, 0, 12)\n",
      "ARIMA: 455 x (1, 2, 1)12.AIC: (2, 1, 1, 12)\n",
      "ARIMA: 456 x (1, 2, 1)12.AIC: (2, 1, 2, 12)\n",
      "ARIMA: 457 x (1, 2, 1)12.AIC: (2, 2, 0, 12)\n",
      "ARIMA: 458 x (1, 2, 1)12.AIC: (2, 2, 1, 12)\n",
      "ARIMA: 459 x (1, 2, 1)12.AIC: (2, 2, 2, 12)\n",
      "ARIMA: 460 x (1, 2, 2)12.AIC: (0, 0, 0, 12)\n",
      "ARIMA: 461 x (1, 2, 2)12.AIC: (0, 0, 1, 12)\n",
      "ARIMA: 462 x (1, 2, 2)12.AIC: (0, 0, 2, 12)\n",
      "ARIMA: 463 x (1, 2, 2)12.AIC: (0, 1, 0, 12)\n",
      "ARIMA: 464 x (1, 2, 2)12.AIC: (0, 1, 1, 12)\n",
      "ARIMA: 465 x (1, 2, 2)12.AIC: (0, 1, 2, 12)\n",
      "ARIMA: 466 x (1, 2, 2)12.AIC: (0, 2, 0, 12)\n",
      "ARIMA: 467 x (1, 2, 2)12.AIC: (0, 2, 1, 12)\n",
      "ARIMA: 468 x (1, 2, 2)12.AIC: (0, 2, 2, 12)\n",
      "ARIMA: 469 x (1, 2, 2)12.AIC: (1, 0, 0, 12)\n",
      "ARIMA: 470 x (1, 2, 2)12.AIC: (1, 0, 1, 12)\n",
      "ARIMA: 471 x (1, 2, 2)12.AIC: (1, 0, 2, 12)\n",
      "ARIMA: 472 x (1, 2, 2)12.AIC: (1, 1, 0, 12)\n",
      "ARIMA: 473 x (1, 2, 2)12.AIC: (1, 1, 1, 12)\n",
      "ARIMA: 474 x (1, 2, 2)12.AIC: (1, 1, 2, 12)\n",
      "ARIMA: 475 x (1, 2, 2)12.AIC: (1, 2, 0, 12)\n",
      "ARIMA: 476 x (1, 2, 2)12.AIC: (1, 2, 1, 12)\n",
      "ARIMA: 477 x (1, 2, 2)12.AIC: (1, 2, 2, 12)\n",
      "ARIMA: 478 x (1, 2, 2)12.AIC: (2, 0, 0, 12)\n",
      "ARIMA: 479 x (1, 2, 2)12.AIC: (2, 0, 1, 12)\n",
      "ARIMA: 480 x (1, 2, 2)12.AIC: (2, 0, 2, 12)\n",
      "ARIMA: 481 x (1, 2, 2)12.AIC: (2, 1, 0, 12)\n",
      "ARIMA: 482 x (1, 2, 2)12.AIC: (2, 1, 1, 12)\n",
      "ARIMA: 483 x (1, 2, 2)12.AIC: (2, 1, 2, 12)\n",
      "ARIMA: 484 x (1, 2, 2)12.AIC: (2, 2, 0, 12)\n",
      "ARIMA: 485 x (1, 2, 2)12.AIC: (2, 2, 1, 12)\n",
      "ARIMA: 486 x (1, 2, 2)12.AIC: (2, 2, 2, 12)\n",
      "ARIMA: 487 x (2, 0, 0)12.AIC: (0, 0, 0, 12)\n",
      "ARIMA: 488 x (2, 0, 0)12.AIC: (0, 0, 1, 12)\n",
      "ARIMA: 489 x (2, 0, 0)12.AIC: (0, 0, 2, 12)\n",
      "ARIMA: 490 x (2, 0, 0)12.AIC: (0, 1, 0, 12)\n",
      "ARIMA: 491 x (2, 0, 0)12.AIC: (0, 1, 1, 12)\n",
      "ARIMA: 492 x (2, 0, 0)12.AIC: (0, 1, 2, 12)\n",
      "ARIMA: 493 x (2, 0, 0)12.AIC: (0, 2, 0, 12)\n",
      "ARIMA: 494 x (2, 0, 0)12.AIC: (0, 2, 1, 12)\n",
      "ARIMA: 495 x (2, 0, 0)12.AIC: (0, 2, 2, 12)\n",
      "ARIMA: 496 x (2, 0, 0)12.AIC: (1, 0, 0, 12)\n",
      "ARIMA: 497 x (2, 0, 0)12.AIC: (1, 0, 1, 12)\n",
      "ARIMA: 498 x (2, 0, 0)12.AIC: (1, 0, 2, 12)\n",
      "ARIMA: 499 x (2, 0, 0)12.AIC: (1, 1, 0, 12)\n",
      "ARIMA: 500 x (2, 0, 0)12.AIC: (1, 1, 1, 12)\n",
      "ARIMA: 501 x (2, 0, 0)12.AIC: (1, 1, 2, 12)\n",
      "ARIMA: 502 x (2, 0, 0)12.AIC: (1, 2, 0, 12)\n",
      "ARIMA: 503 x (2, 0, 0)12.AIC: (1, 2, 1, 12)\n",
      "ARIMA: 504 x (2, 0, 0)12.AIC: (1, 2, 2, 12)\n",
      "ARIMA: 505 x (2, 0, 0)12.AIC: (2, 0, 0, 12)\n",
      "ARIMA: 506 x (2, 0, 0)12.AIC: (2, 0, 1, 12)\n",
      "ARIMA: 507 x (2, 0, 0)12.AIC: (2, 0, 2, 12)\n",
      "ARIMA: 508 x (2, 0, 0)12.AIC: (2, 1, 0, 12)\n",
      "ARIMA: 509 x (2, 0, 0)12.AIC: (2, 1, 1, 12)\n",
      "ARIMA: 510 x (2, 0, 0)12.AIC: (2, 1, 2, 12)\n",
      "ARIMA: 511 x (2, 0, 0)12.AIC: (2, 2, 0, 12)\n",
      "ARIMA: 512 x (2, 0, 0)12.AIC: (2, 2, 1, 12)\n",
      "ARIMA: 513 x (2, 0, 0)12.AIC: (2, 2, 2, 12)\n",
      "ARIMA: 514 x (2, 0, 1)12.AIC: (0, 0, 0, 12)\n",
      "ARIMA: 515 x (2, 0, 1)12.AIC: (0, 0, 1, 12)\n",
      "ARIMA: 516 x (2, 0, 1)12.AIC: (0, 0, 2, 12)\n",
      "ARIMA: 517 x (2, 0, 1)12.AIC: (0, 1, 0, 12)\n",
      "ARIMA: 518 x (2, 0, 1)12.AIC: (0, 1, 1, 12)\n",
      "ARIMA: 519 x (2, 0, 1)12.AIC: (0, 1, 2, 12)\n",
      "ARIMA: 520 x (2, 0, 1)12.AIC: (0, 2, 0, 12)\n",
      "ARIMA: 521 x (2, 0, 1)12.AIC: (0, 2, 1, 12)\n",
      "ARIMA: 522 x (2, 0, 1)12.AIC: (0, 2, 2, 12)\n",
      "ARIMA: 523 x (2, 0, 1)12.AIC: (1, 0, 0, 12)\n",
      "ARIMA: 524 x (2, 0, 1)12.AIC: (1, 0, 1, 12)\n",
      "ARIMA: 525 x (2, 0, 1)12.AIC: (1, 0, 2, 12)\n",
      "ARIMA: 526 x (2, 0, 1)12.AIC: (1, 1, 0, 12)\n",
      "ARIMA: 527 x (2, 0, 1)12.AIC: (1, 1, 1, 12)\n",
      "ARIMA: 528 x (2, 0, 1)12.AIC: (1, 1, 2, 12)\n",
      "ARIMA: 529 x (2, 0, 1)12.AIC: (1, 2, 0, 12)\n",
      "ARIMA: 530 x (2, 0, 1)12.AIC: (1, 2, 1, 12)\n",
      "ARIMA: 531 x (2, 0, 1)12.AIC: (1, 2, 2, 12)\n",
      "ARIMA: 532 x (2, 0, 1)12.AIC: (2, 0, 0, 12)\n",
      "ARIMA: 533 x (2, 0, 1)12.AIC: (2, 0, 1, 12)\n",
      "ARIMA: 534 x (2, 0, 1)12.AIC: (2, 0, 2, 12)\n",
      "ARIMA: 535 x (2, 0, 1)12.AIC: (2, 1, 0, 12)\n",
      "ARIMA: 536 x (2, 0, 1)12.AIC: (2, 1, 1, 12)\n",
      "ARIMA: 537 x (2, 0, 1)12.AIC: (2, 1, 2, 12)\n",
      "ARIMA: 538 x (2, 0, 1)12.AIC: (2, 2, 0, 12)\n",
      "ARIMA: 539 x (2, 0, 1)12.AIC: (2, 2, 1, 12)\n",
      "ARIMA: 540 x (2, 0, 1)12.AIC: (2, 2, 2, 12)\n",
      "ARIMA: 541 x (2, 0, 2)12.AIC: (0, 0, 0, 12)\n",
      "ARIMA: 542 x (2, 0, 2)12.AIC: (0, 0, 1, 12)\n",
      "ARIMA: 543 x (2, 0, 2)12.AIC: (0, 0, 2, 12)\n",
      "ARIMA: 544 x (2, 0, 2)12.AIC: (0, 1, 0, 12)\n",
      "ARIMA: 545 x (2, 0, 2)12.AIC: (0, 1, 1, 12)\n",
      "ARIMA: 546 x (2, 0, 2)12.AIC: (0, 1, 2, 12)\n",
      "ARIMA: 547 x (2, 0, 2)12.AIC: (0, 2, 0, 12)\n",
      "ARIMA: 548 x (2, 0, 2)12.AIC: (0, 2, 1, 12)\n",
      "ARIMA: 549 x (2, 0, 2)12.AIC: (0, 2, 2, 12)\n",
      "ARIMA: 550 x (2, 0, 2)12.AIC: (1, 0, 0, 12)\n",
      "ARIMA: 551 x (2, 0, 2)12.AIC: (1, 0, 1, 12)\n",
      "ARIMA: 552 x (2, 0, 2)12.AIC: (1, 0, 2, 12)\n",
      "ARIMA: 553 x (2, 0, 2)12.AIC: (1, 1, 0, 12)\n",
      "ARIMA: 554 x (2, 0, 2)12.AIC: (1, 1, 1, 12)\n",
      "ARIMA: 555 x (2, 0, 2)12.AIC: (1, 1, 2, 12)\n",
      "ARIMA: 556 x (2, 0, 2)12.AIC: (1, 2, 0, 12)\n",
      "ARIMA: 557 x (2, 0, 2)12.AIC: (1, 2, 1, 12)\n",
      "ARIMA: 558 x (2, 0, 2)12.AIC: (1, 2, 2, 12)\n",
      "ARIMA: 559 x (2, 0, 2)12.AIC: (2, 0, 0, 12)\n",
      "ARIMA: 560 x (2, 0, 2)12.AIC: (2, 0, 1, 12)\n",
      "ARIMA: 561 x (2, 0, 2)12.AIC: (2, 0, 2, 12)\n",
      "ARIMA: 562 x (2, 0, 2)12.AIC: (2, 1, 0, 12)\n",
      "ARIMA: 563 x (2, 0, 2)12.AIC: (2, 1, 1, 12)\n",
      "ARIMA: 564 x (2, 0, 2)12.AIC: (2, 1, 2, 12)\n",
      "ARIMA: 565 x (2, 0, 2)12.AIC: (2, 2, 0, 12)\n",
      "ARIMA: 566 x (2, 0, 2)12.AIC: (2, 2, 1, 12)\n"
     ]
    },
    {
     "name": "stdout",
     "output_type": "stream",
     "text": [
      "ARIMA: 567 x (2, 0, 2)12.AIC: (2, 2, 2, 12)\n",
      "ARIMA: 568 x (2, 1, 0)12.AIC: (0, 0, 0, 12)\n",
      "ARIMA: 569 x (2, 1, 0)12.AIC: (0, 0, 1, 12)\n",
      "ARIMA: 570 x (2, 1, 0)12.AIC: (0, 0, 2, 12)\n",
      "ARIMA: 571 x (2, 1, 0)12.AIC: (0, 1, 0, 12)\n",
      "ARIMA: 572 x (2, 1, 0)12.AIC: (0, 1, 1, 12)\n",
      "ARIMA: 573 x (2, 1, 0)12.AIC: (0, 1, 2, 12)\n",
      "ARIMA: 574 x (2, 1, 0)12.AIC: (0, 2, 0, 12)\n",
      "ARIMA: 575 x (2, 1, 0)12.AIC: (0, 2, 1, 12)\n",
      "ARIMA: 576 x (2, 1, 0)12.AIC: (0, 2, 2, 12)\n",
      "ARIMA: 577 x (2, 1, 0)12.AIC: (1, 0, 0, 12)\n",
      "ARIMA: 578 x (2, 1, 0)12.AIC: (1, 0, 1, 12)\n",
      "ARIMA: 579 x (2, 1, 0)12.AIC: (1, 0, 2, 12)\n",
      "ARIMA: 580 x (2, 1, 0)12.AIC: (1, 1, 0, 12)\n",
      "ARIMA: 581 x (2, 1, 0)12.AIC: (1, 1, 1, 12)\n",
      "ARIMA: 582 x (2, 1, 0)12.AIC: (1, 1, 2, 12)\n",
      "ARIMA: 583 x (2, 1, 0)12.AIC: (1, 2, 0, 12)\n",
      "ARIMA: 584 x (2, 1, 0)12.AIC: (1, 2, 1, 12)\n",
      "ARIMA: 585 x (2, 1, 0)12.AIC: (1, 2, 2, 12)\n",
      "ARIMA: 586 x (2, 1, 0)12.AIC: (2, 0, 0, 12)\n",
      "ARIMA: 587 x (2, 1, 0)12.AIC: (2, 0, 1, 12)\n",
      "ARIMA: 588 x (2, 1, 0)12.AIC: (2, 0, 2, 12)\n",
      "ARIMA: 589 x (2, 1, 0)12.AIC: (2, 1, 0, 12)\n",
      "ARIMA: 590 x (2, 1, 0)12.AIC: (2, 1, 1, 12)\n",
      "ARIMA: 591 x (2, 1, 0)12.AIC: (2, 1, 2, 12)\n",
      "ARIMA: 592 x (2, 1, 0)12.AIC: (2, 2, 0, 12)\n",
      "ARIMA: 593 x (2, 1, 0)12.AIC: (2, 2, 1, 12)\n",
      "ARIMA: 594 x (2, 1, 0)12.AIC: (2, 2, 2, 12)\n",
      "ARIMA: 595 x (2, 1, 1)12.AIC: (0, 0, 0, 12)\n",
      "ARIMA: 596 x (2, 1, 1)12.AIC: (0, 0, 1, 12)\n",
      "ARIMA: 597 x (2, 1, 1)12.AIC: (0, 0, 2, 12)\n",
      "ARIMA: 598 x (2, 1, 1)12.AIC: (0, 1, 0, 12)\n",
      "ARIMA: 599 x (2, 1, 1)12.AIC: (0, 1, 1, 12)\n",
      "ARIMA: 600 x (2, 1, 1)12.AIC: (0, 1, 2, 12)\n",
      "ARIMA: 601 x (2, 1, 1)12.AIC: (0, 2, 0, 12)\n",
      "ARIMA: 602 x (2, 1, 1)12.AIC: (0, 2, 1, 12)\n",
      "ARIMA: 603 x (2, 1, 1)12.AIC: (0, 2, 2, 12)\n",
      "ARIMA: 604 x (2, 1, 1)12.AIC: (1, 0, 0, 12)\n",
      "ARIMA: 605 x (2, 1, 1)12.AIC: (1, 0, 1, 12)\n",
      "ARIMA: 606 x (2, 1, 1)12.AIC: (1, 0, 2, 12)\n",
      "ARIMA: 607 x (2, 1, 1)12.AIC: (1, 1, 0, 12)\n",
      "ARIMA: 608 x (2, 1, 1)12.AIC: (1, 1, 1, 12)\n",
      "ARIMA: 609 x (2, 1, 1)12.AIC: (1, 1, 2, 12)\n",
      "ARIMA: 610 x (2, 1, 1)12.AIC: (1, 2, 0, 12)\n",
      "ARIMA: 611 x (2, 1, 1)12.AIC: (1, 2, 1, 12)\n",
      "ARIMA: 612 x (2, 1, 1)12.AIC: (1, 2, 2, 12)\n",
      "ARIMA: 613 x (2, 1, 1)12.AIC: (2, 0, 0, 12)\n",
      "ARIMA: 614 x (2, 1, 1)12.AIC: (2, 0, 1, 12)\n",
      "ARIMA: 615 x (2, 1, 1)12.AIC: (2, 0, 2, 12)\n",
      "ARIMA: 616 x (2, 1, 1)12.AIC: (2, 1, 0, 12)\n",
      "ARIMA: 617 x (2, 1, 1)12.AIC: (2, 1, 1, 12)\n",
      "ARIMA: 618 x (2, 1, 1)12.AIC: (2, 1, 2, 12)\n",
      "ARIMA: 619 x (2, 1, 1)12.AIC: (2, 2, 0, 12)\n",
      "ARIMA: 620 x (2, 1, 1)12.AIC: (2, 2, 1, 12)\n",
      "ARIMA: 621 x (2, 1, 1)12.AIC: (2, 2, 2, 12)\n",
      "ARIMA: 622 x (2, 1, 2)12.AIC: (0, 0, 0, 12)\n",
      "ARIMA: 623 x (2, 1, 2)12.AIC: (0, 0, 1, 12)\n",
      "ARIMA: 624 x (2, 1, 2)12.AIC: (0, 0, 2, 12)\n",
      "ARIMA: 625 x (2, 1, 2)12.AIC: (0, 1, 0, 12)\n",
      "ARIMA: 626 x (2, 1, 2)12.AIC: (0, 1, 1, 12)\n",
      "ARIMA: 627 x (2, 1, 2)12.AIC: (0, 1, 2, 12)\n",
      "ARIMA: 628 x (2, 1, 2)12.AIC: (0, 2, 0, 12)\n",
      "ARIMA: 629 x (2, 1, 2)12.AIC: (0, 2, 1, 12)\n",
      "ARIMA: 630 x (2, 1, 2)12.AIC: (0, 2, 2, 12)\n",
      "ARIMA: 631 x (2, 1, 2)12.AIC: (1, 0, 0, 12)\n",
      "ARIMA: 632 x (2, 1, 2)12.AIC: (1, 0, 1, 12)\n",
      "ARIMA: 633 x (2, 1, 2)12.AIC: (1, 0, 2, 12)\n",
      "ARIMA: 634 x (2, 1, 2)12.AIC: (1, 1, 0, 12)\n",
      "ARIMA: 635 x (2, 1, 2)12.AIC: (1, 1, 1, 12)\n",
      "ARIMA: 636 x (2, 1, 2)12.AIC: (1, 1, 2, 12)\n",
      "ARIMA: 637 x (2, 1, 2)12.AIC: (1, 2, 0, 12)\n",
      "ARIMA: 638 x (2, 1, 2)12.AIC: (1, 2, 1, 12)\n",
      "ARIMA: 639 x (2, 1, 2)12.AIC: (1, 2, 2, 12)\n",
      "ARIMA: 640 x (2, 1, 2)12.AIC: (2, 0, 0, 12)\n",
      "ARIMA: 641 x (2, 1, 2)12.AIC: (2, 0, 1, 12)\n",
      "ARIMA: 642 x (2, 1, 2)12.AIC: (2, 0, 2, 12)\n",
      "ARIMA: 643 x (2, 1, 2)12.AIC: (2, 1, 0, 12)\n",
      "ARIMA: 644 x (2, 1, 2)12.AIC: (2, 1, 1, 12)\n",
      "ARIMA: 645 x (2, 1, 2)12.AIC: (2, 1, 2, 12)\n",
      "ARIMA: 646 x (2, 1, 2)12.AIC: (2, 2, 0, 12)\n",
      "ARIMA: 647 x (2, 1, 2)12.AIC: (2, 2, 1, 12)\n",
      "ARIMA: 648 x (2, 1, 2)12.AIC: (2, 2, 2, 12)\n",
      "ARIMA: 649 x (2, 2, 0)12.AIC: (0, 0, 0, 12)\n",
      "ARIMA: 650 x (2, 2, 0)12.AIC: (0, 0, 1, 12)\n",
      "ARIMA: 651 x (2, 2, 0)12.AIC: (0, 0, 2, 12)\n",
      "ARIMA: 652 x (2, 2, 0)12.AIC: (0, 1, 0, 12)\n",
      "ARIMA: 653 x (2, 2, 0)12.AIC: (0, 1, 1, 12)\n",
      "ARIMA: 654 x (2, 2, 0)12.AIC: (0, 1, 2, 12)\n",
      "ARIMA: 655 x (2, 2, 0)12.AIC: (0, 2, 0, 12)\n",
      "ARIMA: 656 x (2, 2, 0)12.AIC: (0, 2, 1, 12)\n",
      "ARIMA: 657 x (2, 2, 0)12.AIC: (0, 2, 2, 12)\n",
      "ARIMA: 658 x (2, 2, 0)12.AIC: (1, 0, 0, 12)\n",
      "ARIMA: 659 x (2, 2, 0)12.AIC: (1, 0, 1, 12)\n",
      "ARIMA: 660 x (2, 2, 0)12.AIC: (1, 0, 2, 12)\n",
      "ARIMA: 661 x (2, 2, 0)12.AIC: (1, 1, 0, 12)\n",
      "ARIMA: 662 x (2, 2, 0)12.AIC: (1, 1, 1, 12)\n",
      "ARIMA: 663 x (2, 2, 0)12.AIC: (1, 1, 2, 12)\n",
      "ARIMA: 664 x (2, 2, 0)12.AIC: (1, 2, 0, 12)\n",
      "ARIMA: 665 x (2, 2, 0)12.AIC: (1, 2, 1, 12)\n",
      "ARIMA: 666 x (2, 2, 0)12.AIC: (1, 2, 2, 12)\n",
      "ARIMA: 667 x (2, 2, 0)12.AIC: (2, 0, 0, 12)\n",
      "ARIMA: 668 x (2, 2, 0)12.AIC: (2, 0, 1, 12)\n",
      "ARIMA: 669 x (2, 2, 0)12.AIC: (2, 0, 2, 12)\n",
      "ARIMA: 670 x (2, 2, 0)12.AIC: (2, 1, 0, 12)\n",
      "ARIMA: 671 x (2, 2, 0)12.AIC: (2, 1, 1, 12)\n",
      "ARIMA: 672 x (2, 2, 0)12.AIC: (2, 1, 2, 12)\n",
      "ARIMA: 673 x (2, 2, 0)12.AIC: (2, 2, 0, 12)\n",
      "ARIMA: 674 x (2, 2, 0)12.AIC: (2, 2, 1, 12)\n",
      "ARIMA: 675 x (2, 2, 0)12.AIC: (2, 2, 2, 12)\n",
      "ARIMA: 676 x (2, 2, 1)12.AIC: (0, 0, 0, 12)\n",
      "ARIMA: 677 x (2, 2, 1)12.AIC: (0, 0, 1, 12)\n",
      "ARIMA: 678 x (2, 2, 1)12.AIC: (0, 0, 2, 12)\n",
      "ARIMA: 679 x (2, 2, 1)12.AIC: (0, 1, 0, 12)\n",
      "ARIMA: 680 x (2, 2, 1)12.AIC: (0, 1, 1, 12)\n",
      "ARIMA: 681 x (2, 2, 1)12.AIC: (0, 1, 2, 12)\n",
      "ARIMA: 682 x (2, 2, 1)12.AIC: (0, 2, 0, 12)\n",
      "ARIMA: 683 x (2, 2, 1)12.AIC: (0, 2, 1, 12)\n",
      "ARIMA: 684 x (2, 2, 1)12.AIC: (0, 2, 2, 12)\n",
      "ARIMA: 685 x (2, 2, 1)12.AIC: (1, 0, 0, 12)\n",
      "ARIMA: 686 x (2, 2, 1)12.AIC: (1, 0, 1, 12)\n",
      "ARIMA: 687 x (2, 2, 1)12.AIC: (1, 0, 2, 12)\n",
      "ARIMA: 688 x (2, 2, 1)12.AIC: (1, 1, 0, 12)\n",
      "ARIMA: 689 x (2, 2, 1)12.AIC: (1, 1, 1, 12)\n",
      "ARIMA: 690 x (2, 2, 1)12.AIC: (1, 1, 2, 12)\n",
      "ARIMA: 691 x (2, 2, 1)12.AIC: (1, 2, 0, 12)\n",
      "ARIMA: 692 x (2, 2, 1)12.AIC: (1, 2, 1, 12)\n",
      "ARIMA: 693 x (2, 2, 1)12.AIC: (1, 2, 2, 12)\n",
      "ARIMA: 694 x (2, 2, 1)12.AIC: (2, 0, 0, 12)\n",
      "ARIMA: 695 x (2, 2, 1)12.AIC: (2, 0, 1, 12)\n",
      "ARIMA: 696 x (2, 2, 1)12.AIC: (2, 0, 2, 12)\n",
      "ARIMA: 697 x (2, 2, 1)12.AIC: (2, 1, 0, 12)\n",
      "ARIMA: 698 x (2, 2, 1)12.AIC: (2, 1, 1, 12)\n",
      "ARIMA: 699 x (2, 2, 1)12.AIC: (2, 1, 2, 12)\n",
      "ARIMA: 700 x (2, 2, 1)12.AIC: (2, 2, 0, 12)\n",
      "ARIMA: 701 x (2, 2, 1)12.AIC: (2, 2, 1, 12)\n",
      "ARIMA: 702 x (2, 2, 1)12.AIC: (2, 2, 2, 12)\n",
      "ARIMA: 703 x (2, 2, 2)12.AIC: (0, 0, 0, 12)\n",
      "ARIMA: 704 x (2, 2, 2)12.AIC: (0, 0, 1, 12)\n",
      "ARIMA: 705 x (2, 2, 2)12.AIC: (0, 0, 2, 12)\n",
      "ARIMA: 706 x (2, 2, 2)12.AIC: (0, 1, 0, 12)\n",
      "ARIMA: 707 x (2, 2, 2)12.AIC: (0, 1, 1, 12)\n",
      "ARIMA: 708 x (2, 2, 2)12.AIC: (0, 1, 2, 12)\n",
      "ARIMA: 709 x (2, 2, 2)12.AIC: (0, 2, 0, 12)\n",
      "ARIMA: 710 x (2, 2, 2)12.AIC: (0, 2, 1, 12)\n",
      "ARIMA: 711 x (2, 2, 2)12.AIC: (0, 2, 2, 12)\n",
      "ARIMA: 712 x (2, 2, 2)12.AIC: (1, 0, 0, 12)\n",
      "ARIMA: 713 x (2, 2, 2)12.AIC: (1, 0, 1, 12)\n",
      "ARIMA: 714 x (2, 2, 2)12.AIC: (1, 0, 2, 12)\n",
      "ARIMA: 715 x (2, 2, 2)12.AIC: (1, 1, 0, 12)\n",
      "ARIMA: 716 x (2, 2, 2)12.AIC: (1, 1, 1, 12)\n",
      "ARIMA: 717 x (2, 2, 2)12.AIC: (1, 1, 2, 12)\n",
      "ARIMA: 718 x (2, 2, 2)12.AIC: (1, 2, 0, 12)\n",
      "ARIMA: 719 x (2, 2, 2)12.AIC: (1, 2, 1, 12)\n",
      "ARIMA: 720 x (2, 2, 2)12.AIC: (1, 2, 2, 12)\n",
      "ARIMA: 721 x (2, 2, 2)12.AIC: (2, 0, 0, 12)\n",
      "ARIMA: 722 x (2, 2, 2)12.AIC: (2, 0, 1, 12)\n",
      "ARIMA: 723 x (2, 2, 2)12.AIC: (2, 0, 2, 12)\n",
      "ARIMA: 724 x (2, 2, 2)12.AIC: (2, 1, 0, 12)\n",
      "ARIMA: 725 x (2, 2, 2)12.AIC: (2, 1, 1, 12)\n",
      "ARIMA: 726 x (2, 2, 2)12.AIC: (2, 1, 2, 12)\n",
      "ARIMA: 727 x (2, 2, 2)12.AIC: (2, 2, 0, 12)\n",
      "ARIMA: 728 x (2, 2, 2)12.AIC: (2, 2, 1, 12)\n",
      "ARIMA: 729 x (2, 2, 2)12.AIC: (2, 2, 2, 12)\n"
     ]
    }
   ],
   "source": [
    "aic_scores={}\n",
    "i=1\n",
    "\n",
    "for param in pdq:\n",
    "    for param_seasonal in seasonal_pdq:\n",
    "        try:\n",
    "            model=sm.tsa.statespace.SARIMAX(df_monthly_quantity,\n",
    "                                           order=param,\n",
    "                                           seasonal_order=param_seasonal,\n",
    "                                           enforce_stationarity=False,\n",
    "                                           enforce_invertibility=False)\n",
    "            results=model.fit()\n",
    "            print('ARIMA: {} x {}12.AIC: {}'.format(i,param,param_seasonal,results.aic))\n",
    "            aic_scores[i]=results.aic\n",
    "            i+=1\n",
    "        except:\n",
    "            continue"
   ]
  },
  {
   "cell_type": "code",
   "execution_count": 100,
   "id": "3fa00f48",
   "metadata": {},
   "outputs": [],
   "source": [
    "#finding the key for lowest aic score"
   ]
  },
  {
   "cell_type": "code",
   "execution_count": 101,
   "id": "b06fddae",
   "metadata": {},
   "outputs": [
    {
     "data": {
      "text/plain": [
       "6.0"
      ]
     },
     "execution_count": 101,
     "metadata": {},
     "output_type": "execute_result"
    }
   ],
   "source": [
    "min(aic_scores.values())"
   ]
  },
  {
   "cell_type": "code",
   "execution_count": 102,
   "id": "fd72f544",
   "metadata": {},
   "outputs": [
    {
     "data": {
      "text/plain": [
       "9"
      ]
     },
     "execution_count": 102,
     "metadata": {},
     "output_type": "execute_result"
    }
   ],
   "source": [
    "min(aic_scores,key=aic_scores.get)"
   ]
  },
  {
   "cell_type": "markdown",
   "id": "e5a1a960",
   "metadata": {},
   "source": [
    "We will rebuild the model using pdq=(0,0,0) and seasonal_pdq=(0,2,2,12)"
   ]
  },
  {
   "cell_type": "code",
   "execution_count": 103,
   "id": "6aacd9e2",
   "metadata": {},
   "outputs": [],
   "source": [
    "final_model=sm.tsa.statespace.SARIMAX(df_monthly_quantity,\n",
    "                                           order=(0,0,0),\n",
    "                                           seasonal_order=(0,2,2,12),\n",
    "                                           enforce_stationarity=False,\n",
    "                                           enforce_invertibility=False)\n",
    "final_result=final_model.fit()"
   ]
  },
  {
   "cell_type": "code",
   "execution_count": 104,
   "id": "a0546cd9",
   "metadata": {},
   "outputs": [],
   "source": [
    "#predicting the result"
   ]
  },
  {
   "cell_type": "code",
   "execution_count": 105,
   "id": "72c41876",
   "metadata": {},
   "outputs": [],
   "source": [
    "pred=final_result.get_prediction(start=pd.to_datetime('2017-01-01'),dynamic=False)"
   ]
  },
  {
   "cell_type": "code",
   "execution_count": 106,
   "id": "d9404379",
   "metadata": {},
   "outputs": [
    {
     "data": {
      "text/plain": [
       "Order_Date\n",
       "2017-01-01    260.0\n",
       "2017-02-01    219.0\n",
       "2017-03-01    260.0\n",
       "2017-04-01    518.0\n",
       "2017-05-01    680.0\n",
       "2017-06-01    684.0\n",
       "2017-07-01    653.0\n",
       "2017-08-01    516.0\n",
       "2017-09-01    983.0\n",
       "2017-10-01    575.0\n",
       "2017-11-01    839.0\n",
       "2017-12-01    990.0\n",
       "Freq: MS, Name: predicted_mean, dtype: float64"
      ]
     },
     "execution_count": 106,
     "metadata": {},
     "output_type": "execute_result"
    }
   ],
   "source": [
    "pred.predicted_mean"
   ]
  },
  {
   "cell_type": "code",
   "execution_count": 107,
   "id": "67118f57",
   "metadata": {},
   "outputs": [
    {
     "name": "stdout",
     "output_type": "stream",
     "text": [
      "            lower Quantity  upper Quantity\n",
      "Order_Date                                \n",
      "2017-01-01       37.679121      482.320879\n",
      "2017-02-01       -3.320879      441.320879\n",
      "2017-03-01       37.679121      482.320879\n",
      "2017-04-01      295.679121      740.320879\n",
      "2017-05-01      457.679121      902.320879\n",
      "2017-06-01      461.679121      906.320879\n",
      "2017-07-01      430.679121      875.320879\n",
      "2017-08-01      293.679121      738.320879\n",
      "2017-09-01      760.679121     1205.320879\n",
      "2017-10-01      352.679121      797.320879\n",
      "2017-11-01      616.679121     1061.320879\n",
      "2017-12-01      767.679121     1212.320879\n"
     ]
    },
    {
     "data": {
      "image/png": "[encoded data removed]",
      "text/plain": [
       "<Figure size 864x576 with 1 Axes>"
      ]
     },
     "metadata": {
      "needs_background": "light"
     },
     "output_type": "display_data"
    }
   ],
   "source": [
    "pred_ci=pred.conf_int()\n",
    "print(pred_ci)\n",
    "\n",
    "ax=df_monthly_quantity['2014':].plot(label='observed')\n",
    "pred.predicted_mean.plot(ax=ax,label='Forecast',alpha=.8,figsize=(12,8))\n",
    "ax.fill_between(pred_ci.index,\n",
    "               pred_ci['lower Quantity'],\n",
    "               pred_ci['upper Quantity'],color='green',alpha=.2)\n",
    "\n",
    "ax.set_xlabel('Date')\n",
    "ax.set_ylabel('Quantity Demand')\n",
    "\n",
    "plt.legend()\n",
    "plt.show()"
   ]
  },
  {
   "cell_type": "code",
   "execution_count": 108,
   "id": "b5436681",
   "metadata": {},
   "outputs": [],
   "source": [
    "#predicting for future timeframe"
   ]
  },
  {
   "cell_type": "code",
   "execution_count": 109,
   "id": "e127a477",
   "metadata": {},
   "outputs": [],
   "source": [
    "future_pred=final_result.get_prediction(start=pd.to_datetime('2018-01-01'),end=pd.to_datetime('2018-12-01'),dynamic=False)"
   ]
  },
  {
   "cell_type": "code",
   "execution_count": 110,
   "id": "8b38c78d",
   "metadata": {},
   "outputs": [
    {
     "data": {
      "text/plain": [
       "<statsmodels.tsa.statespace.mlemodel.PredictionResultsWrapper at 0x1eb91be98e0>"
      ]
     },
     "execution_count": 110,
     "metadata": {},
     "output_type": "execute_result"
    }
   ],
   "source": [
    "future_pred"
   ]
  },
  {
   "cell_type": "code",
   "execution_count": 111,
   "id": "69cf3aab",
   "metadata": {},
   "outputs": [
    {
     "data": {
      "text/plain": [
       "2018-01-01     605.0\n",
       "2018-02-01     260.0\n",
       "2018-03-01     827.0\n",
       "2018-04-01     528.0\n",
       "2018-05-01     567.0\n",
       "2018-06-01     642.0\n",
       "2018-07-01     445.0\n",
       "2018-08-01     783.0\n",
       "2018-09-01    1258.0\n",
       "2018-10-01     839.0\n",
       "2018-11-01    1367.0\n",
       "2018-12-01    1285.0\n",
       "Freq: MS, Name: predicted_mean, dtype: float64"
      ]
     },
     "execution_count": 111,
     "metadata": {},
     "output_type": "execute_result"
    }
   ],
   "source": [
    "future_pred.predicted_mean"
   ]
  },
  {
   "cell_type": "code",
   "execution_count": 112,
   "id": "30d5ee2d",
   "metadata": {},
   "outputs": [
    {
     "name": "stdout",
     "output_type": "stream",
     "text": [
      "            lower Quantity  upper Quantity\n",
      "2018-01-01      382.679121      827.320879\n",
      "2018-02-01       37.679121      482.320879\n",
      "2018-03-01      604.679121     1049.320879\n",
      "2018-04-01      305.679121      750.320879\n",
      "2018-05-01      344.679121      789.320879\n",
      "2018-06-01      419.679121      864.320879\n",
      "2018-07-01      222.679121      667.320879\n",
      "2018-08-01      560.679121     1005.320879\n",
      "2018-09-01     1035.679121     1480.320879\n",
      "2018-10-01      616.679121     1061.320879\n",
      "2018-11-01     1144.679121     1589.320879\n",
      "2018-12-01     1062.679121     1507.320879\n"
     ]
    }
   ],
   "source": [
    "future_pred_ci=future_pred.conf_int()\n",
    "print(future_pred_ci)"
   ]
  },
  {
   "cell_type": "code",
   "execution_count": 113,
   "id": "f81cfa3b",
   "metadata": {},
   "outputs": [
    {
     "data": {
      "image/png": "[encoded data removed]",
      "text/plain": [
       "<Figure size 864x576 with 1 Axes>"
      ]
     },
     "metadata": {
      "needs_background": "light"
     },
     "output_type": "display_data"
    }
   ],
   "source": [
    "ax=df_monthly_quantity['2014':].plot(label='observed')\n",
    "future_pred.predicted_mean.plot(ax=ax,label='Forecast',alpha=.8,figsize=(12,8))\n",
    "ax.fill_between(future_pred_ci.index,\n",
    "               future_pred_ci['lower Quantity'],\n",
    "               future_pred_ci['upper Quantity'],color='green',alpha=.2)\n",
    "\n",
    "ax.set_xlabel('Date')\n",
    "ax.set_ylabel('Quantity Demand')\n",
    "\n",
    "plt.legend()\n",
    "plt.show()"
   ]
  },
  {
   "cell_type": "code",
   "execution_count": 124,
   "id": "cfa470ed",
   "metadata": {},
   "outputs": [],
   "source": [
    "#Calculating RMSE"
   ]
  },
  {
   "cell_type": "code",
   "execution_count": 163,
   "id": "7ae22e08",
   "metadata": {},
   "outputs": [],
   "source": [
    "y_actual=df_monthly_quantity['2017':].values.reshape(1,-1)"
   ]
  },
  {
   "cell_type": "code",
   "execution_count": 164,
   "id": "b2b2d18c",
   "metadata": {},
   "outputs": [
    {
     "data": {
      "text/plain": [
       "array([[ 395,  222,  557,  468,  544,  566,  459,  613, 1046,  652, 1093,\n",
       "        1061]], dtype=int64)"
      ]
     },
     "execution_count": 164,
     "metadata": {},
     "output_type": "execute_result"
    }
   ],
   "source": [
    "y_actual"
   ]
  },
  {
   "cell_type": "code",
   "execution_count": 157,
   "id": "3f8b6984",
   "metadata": {},
   "outputs": [],
   "source": [
    "y_pred=pred.predicted_mean.values"
   ]
  },
  {
   "cell_type": "code",
   "execution_count": 159,
   "id": "1e5aab26",
   "metadata": {},
   "outputs": [
    {
     "data": {
      "text/plain": [
       "array([260., 219., 260., 518., 680., 684., 653., 516., 983., 575., 839.,\n",
       "       990.])"
      ]
     },
     "execution_count": 159,
     "metadata": {},
     "output_type": "execute_result"
    }
   ],
   "source": [
    "y_pred"
   ]
  },
  {
   "cell_type": "code",
   "execution_count": 166,
   "id": "3efb992d",
   "metadata": {},
   "outputs": [
    {
     "data": {
      "text/plain": [
       "array([[ 135.,    3.,  297.,  -50., -136., -118., -194.,   97.,   63.,\n",
       "          77.,  254.,   71.]])"
      ]
     },
     "execution_count": 166,
     "metadata": {},
     "output_type": "execute_result"
    }
   ],
   "source": [
    "y_actual-y_pred"
   ]
  },
  {
   "cell_type": "code",
   "execution_count": 170,
   "id": "ab816edb",
   "metadata": {},
   "outputs": [],
   "source": [
    "mse=((y_actual-y_pred)**2).mean().round(2)"
   ]
  },
  {
   "cell_type": "code",
   "execution_count": 171,
   "id": "9a15f331",
   "metadata": {},
   "outputs": [],
   "source": [
    "rmse=np.sqrt(mse).round(2)"
   ]
  },
  {
   "cell_type": "code",
   "execution_count": 172,
   "id": "579e592c",
   "metadata": {},
   "outputs": [
    {
     "name": "stdout",
     "output_type": "stream",
     "text": [
      "MSE: 22321.92, RMSE: 149.41\n"
     ]
    }
   ],
   "source": [
    "print('MSE: {}, RMSE: {}'.format(mse,rmse))"
   ]
  }
 ],
 "metadata": {
  "kernelspec": {
   "display_name": "Python 3 (ipykernel)",
   "language": "python",
   "name": "python3"
  },
  "language_info": {
   "codemirror_mode": {
    "name": "ipython",
    "version": 3
   },
   "file_extension": ".py",
   "mimetype": "text/x-python",
   "name": "python",
   "nbconvert_exporter": "python",
   "pygments_lexer": "ipython3",
   "version": "3.9.12"
  }
 },
 "nbformat": 4,
 "nbformat_minor": 5
}
